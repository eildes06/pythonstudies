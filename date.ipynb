{
  "nbformat": 4,
  "nbformat_minor": 0,
  "metadata": {
    "colab": {
      "name": "Untitled17.ipynb",
      "provenance": [],
      "authorship_tag": "ABX9TyMZCrfO417AjjLM+KNKzLOv",
      "include_colab_link": true
    },
    "kernelspec": {
      "name": "python3",
      "display_name": "Python 3"
    },
    "language_info": {
      "name": "python"
    }
  },
  "cells": [
    {
      "cell_type": "markdown",
      "metadata": {
        "id": "view-in-github",
        "colab_type": "text"
      },
      "source": [
        "<a href=\"https://colab.research.google.com/github/eildes06/pythonstudies/blob/main/date.ipynb\" target=\"_parent\"><img src=\"https://colab.research.google.com/assets/colab-badge.svg\" alt=\"Open In Colab\"/></a>"
      ]
    },
    {
      "cell_type": "code",
      "execution_count": null,
      "metadata": {
        "colab": {
          "base_uri": "https://localhost:8080/"
        },
        "id": "lwaXldvz9Z59",
        "outputId": "0ecf5c13-d0f0-43eb-d2c9-b171f2489d0a"
      },
      "outputs": [
        {
          "output_type": "stream",
          "name": "stdout",
          "text": [
            "day 9\n",
            "month 1\n",
            "year 2022\n",
            "hour 14\n",
            "minutes 21\n",
            "second 21\n"
          ]
        }
      ],
      "source": [
        "from datetime import datetime\n",
        "today=datetime.now()\n",
        "print(\"day \"+str(today.day))\n",
        "print(\"month \"+str(today.month))\n",
        "print(\"year \"+str(today.year))\n",
        "print(\"hour \" +str(today.hour))\n",
        "print(\"minutes \"+str(today.minute))\n",
        "print(\"second \" +str(today.second))"
      ]
    },
    {
      "cell_type": "code",
      "source": [
        ""
      ],
      "metadata": {
        "id": "JY5RC9403nEf"
      },
      "execution_count": null,
      "outputs": []
    },
    {
      "cell_type": "code",
      "source": [
        ""
      ],
      "metadata": {
        "id": "OdGE-4Bh3nLf"
      },
      "execution_count": null,
      "outputs": []
    },
    {
      "cell_type": "code",
      "source": [
        ""
      ],
      "metadata": {
        "id": "6KnbI0ea3nQT"
      },
      "execution_count": null,
      "outputs": []
    }
  ]
}