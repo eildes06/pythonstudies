{
  "nbformat": 4,
  "nbformat_minor": 0,
  "metadata": {
    "colab": {
      "name": "Mapfonk.ipynb",
      "provenance": [],
      "authorship_tag": "ABX9TyPOYmP9xV+SZZB77R4FVf05",
      "include_colab_link": true
    },
    "kernelspec": {
      "name": "python3",
      "display_name": "Python 3"
    },
    "language_info": {
      "name": "python"
    }
  },
  "cells": [
    {
      "cell_type": "markdown",
      "metadata": {
        "id": "view-in-github",
        "colab_type": "text"
      },
      "source": [
        "<a href=\"https://colab.research.google.com/github/eildes06/pythonstudies/blob/main/Mapfonk.ipynb\" target=\"_parent\"><img src=\"https://colab.research.google.com/assets/colab-badge.svg\" alt=\"Open In Colab\"/></a>"
      ]
    },
    {
      "cell_type": "code",
      "execution_count": 1,
      "metadata": {
        "colab": {
          "base_uri": "https://localhost:8080/"
        },
        "id": "g_QMJsaMpOSB",
        "outputId": "4b49e4d8-6d7f-4fad-c33f-569cde2820c3"
      },
      "outputs": [
        {
          "output_type": "stream",
          "name": "stdout",
          "text": [
            "[1, 4, 25, 49]\n",
            "(1, 4, 25, 49)\n"
          ]
        }
      ],
      "source": [
        "liste =[1,2,5,7]\n",
        "def kare_al(x):\n",
        "  return x*x\n",
        "liste2=[]\n",
        "for i in liste:\n",
        "  liste2.append(kare_al(i))\n",
        "print(liste2)\n",
        "liste3=tuple(map(kare_al,liste))\n",
        "print(liste3)"
      ]
    },
    {
      "cell_type": "code",
      "source": [
        "liste=[1,2,3,6,7,9]\n",
        "liste2=list(map(lambda x:x*x,liste))\n",
        "print(liste2)\n",
        "liste3=list(map(lambda x:x**3,liste))\n",
        "liste3"
      ],
      "metadata": {
        "colab": {
          "base_uri": "https://localhost:8080/"
        },
        "id": "mF8-2q8MqGGu",
        "outputId": "fe159d6a-bd36-46e3-b0b4-ff031e8dc1a2"
      },
      "execution_count": 2,
      "outputs": [
        {
          "output_type": "stream",
          "name": "stdout",
          "text": [
            "[1, 4, 9, 36, 49, 81]\n"
          ]
        },
        {
          "output_type": "execute_result",
          "data": {
            "text/plain": [
              "[1, 8, 27, 216, 343, 729]"
            ]
          },
          "metadata": {},
          "execution_count": 2
        }
      ]
    },
    {
      "cell_type": "code",
      "source": [
        "liste1=[1,3,4,7,8]\n",
        "liste2=[3,5,9,0,1]\n",
        "def top(x,y):\n",
        "  return x+y\n",
        "sonuc=list(map(top,liste1,liste2))\n",
        "print(sonuc)"
      ],
      "metadata": {
        "colab": {
          "base_uri": "https://localhost:8080/"
        },
        "id": "pj4PNtDyqGIt",
        "outputId": "ab21959d-cf6f-4f2a-90bd-42b0135c7026"
      },
      "execution_count": 3,
      "outputs": [
        {
          "output_type": "stream",
          "name": "stdout",
          "text": [
            "[4, 8, 13, 7, 9]\n"
          ]
        }
      ]
    },
    {
      "cell_type": "code",
      "source": [
        "liste1=[1,3,4,7,8]\n",
        "liste2=[3,5,9,0,1]\n",
        "liste3=[3,4]\n",
        "def top(x,y,z):\n",
        "  return x+y+z\n",
        "sonuc=list(map(top,liste1,liste2,liste3))\n",
        "print(sonuc)"
      ],
      "metadata": {
        "colab": {
          "base_uri": "https://localhost:8080/"
        },
        "id": "-tE8OSRqqGME",
        "outputId": "bb6d07bf-20a5-4dd2-95b6-2f8fd5c48290"
      },
      "execution_count": 6,
      "outputs": [
        {
          "output_type": "stream",
          "name": "stdout",
          "text": [
            "[7, 12]\n"
          ]
        }
      ]
    },
    {
      "cell_type": "code",
      "source": [
        "sonuc2=list(map(lambda x,y,z: x+y+z,liste1,liste2,liste3))\n",
        "print(sonuc2)"
      ],
      "metadata": {
        "colab": {
          "base_uri": "https://localhost:8080/"
        },
        "id": "2oO8BLfur0B-",
        "outputId": "166e4729-8be5-4e99-fb0d-7fd8690af8f7"
      },
      "execution_count": 10,
      "outputs": [
        {
          "output_type": "stream",
          "name": "stdout",
          "text": [
            "[7, 12]\n"
          ]
        }
      ]
    },
    {
      "cell_type": "code",
      "source": [
        "urunler=[[\"ayakb\",150]],[\"pantol\",120],[\"gomlk\",100],[\"ceket\",200]\n",
        "def indirim(x):\n",
        "    urun, fiyat = x[0], x[1]\n",
        "    fiyat=fiyat*(9/10)\n",
        "    return[urun,fiyat]\n",
        "sonuc=list(map(indirim,urunler))\n",
        "print(sonuc)"
      ],
      "metadata": {
        "colab": {
          "base_uri": "https://localhost:8080/",
          "height": 375
        },
        "id": "8Qb3wralr0Dm",
        "outputId": "51e3e900-eec0-47a0-d088-e9b924d3b191"
      },
      "execution_count": 26,
      "outputs": [
        {
          "output_type": "error",
          "ename": "IndexError",
          "evalue": "ignored",
          "traceback": [
            "\u001b[0;31m---------------------------------------------------------------------------\u001b[0m",
            "\u001b[0;31mIndexError\u001b[0m                                Traceback (most recent call last)",
            "\u001b[0;32m<ipython-input-26-95def2321fce>\u001b[0m in \u001b[0;36m<module>\u001b[0;34m()\u001b[0m\n\u001b[1;32m      4\u001b[0m     \u001b[0mfiyat\u001b[0m\u001b[0;34m=\u001b[0m\u001b[0mfiyat\u001b[0m\u001b[0;34m*\u001b[0m\u001b[0;34m(\u001b[0m\u001b[0;36m9\u001b[0m\u001b[0;34m/\u001b[0m\u001b[0;36m10\u001b[0m\u001b[0;34m)\u001b[0m\u001b[0;34m\u001b[0m\u001b[0;34m\u001b[0m\u001b[0m\n\u001b[1;32m      5\u001b[0m     \u001b[0;32mreturn\u001b[0m\u001b[0;34m[\u001b[0m\u001b[0murun\u001b[0m\u001b[0;34m,\u001b[0m\u001b[0mfiyat\u001b[0m\u001b[0;34m]\u001b[0m\u001b[0;34m\u001b[0m\u001b[0;34m\u001b[0m\u001b[0m\n\u001b[0;32m----> 6\u001b[0;31m \u001b[0msonuc\u001b[0m\u001b[0;34m=\u001b[0m\u001b[0mlist\u001b[0m\u001b[0;34m(\u001b[0m\u001b[0mmap\u001b[0m\u001b[0;34m(\u001b[0m\u001b[0mindirim\u001b[0m\u001b[0;34m,\u001b[0m\u001b[0murunler\u001b[0m\u001b[0;34m)\u001b[0m\u001b[0;34m)\u001b[0m\u001b[0;34m\u001b[0m\u001b[0;34m\u001b[0m\u001b[0m\n\u001b[0m\u001b[1;32m      7\u001b[0m \u001b[0mprint\u001b[0m\u001b[0;34m(\u001b[0m\u001b[0msonuc\u001b[0m\u001b[0;34m)\u001b[0m\u001b[0;34m\u001b[0m\u001b[0;34m\u001b[0m\u001b[0m\n",
            "\u001b[0;32m<ipython-input-26-95def2321fce>\u001b[0m in \u001b[0;36mindirim\u001b[0;34m(x)\u001b[0m\n\u001b[1;32m      1\u001b[0m \u001b[0murunler\u001b[0m\u001b[0;34m=\u001b[0m\u001b[0;34m[\u001b[0m\u001b[0;34m[\u001b[0m\u001b[0;34m\"ayakb\"\u001b[0m\u001b[0;34m,\u001b[0m\u001b[0;36m150\u001b[0m\u001b[0;34m]\u001b[0m\u001b[0;34m]\u001b[0m\u001b[0;34m,\u001b[0m\u001b[0;34m[\u001b[0m\u001b[0;34m\"pantol\"\u001b[0m\u001b[0;34m,\u001b[0m\u001b[0;36m120\u001b[0m\u001b[0;34m]\u001b[0m\u001b[0;34m,\u001b[0m\u001b[0;34m[\u001b[0m\u001b[0;34m\"gomlk\"\u001b[0m\u001b[0;34m,\u001b[0m\u001b[0;36m100\u001b[0m\u001b[0;34m]\u001b[0m\u001b[0;34m,\u001b[0m\u001b[0;34m[\u001b[0m\u001b[0;34m\"ceket\"\u001b[0m\u001b[0;34m,\u001b[0m\u001b[0;36m200\u001b[0m\u001b[0;34m]\u001b[0m\u001b[0;34m\u001b[0m\u001b[0;34m\u001b[0m\u001b[0m\n\u001b[1;32m      2\u001b[0m \u001b[0;32mdef\u001b[0m \u001b[0mindirim\u001b[0m\u001b[0;34m(\u001b[0m\u001b[0mx\u001b[0m\u001b[0;34m)\u001b[0m\u001b[0;34m:\u001b[0m\u001b[0;34m\u001b[0m\u001b[0;34m\u001b[0m\u001b[0m\n\u001b[0;32m----> 3\u001b[0;31m     \u001b[0murun\u001b[0m\u001b[0;34m,\u001b[0m \u001b[0mfiyat\u001b[0m \u001b[0;34m=\u001b[0m \u001b[0mx\u001b[0m\u001b[0;34m[\u001b[0m\u001b[0;36m0\u001b[0m\u001b[0;34m]\u001b[0m\u001b[0;34m,\u001b[0m \u001b[0mx\u001b[0m\u001b[0;34m[\u001b[0m\u001b[0;36m1\u001b[0m\u001b[0;34m]\u001b[0m\u001b[0;34m\u001b[0m\u001b[0;34m\u001b[0m\u001b[0m\n\u001b[0m\u001b[1;32m      4\u001b[0m     \u001b[0mfiyat\u001b[0m\u001b[0;34m=\u001b[0m\u001b[0mfiyat\u001b[0m\u001b[0;34m*\u001b[0m\u001b[0;34m(\u001b[0m\u001b[0;36m9\u001b[0m\u001b[0;34m/\u001b[0m\u001b[0;36m10\u001b[0m\u001b[0;34m)\u001b[0m\u001b[0;34m\u001b[0m\u001b[0;34m\u001b[0m\u001b[0m\n\u001b[1;32m      5\u001b[0m     \u001b[0;32mreturn\u001b[0m\u001b[0;34m[\u001b[0m\u001b[0murun\u001b[0m\u001b[0;34m,\u001b[0m\u001b[0mfiyat\u001b[0m\u001b[0;34m]\u001b[0m\u001b[0;34m\u001b[0m\u001b[0;34m\u001b[0m\u001b[0m\n",
            "\u001b[0;31mIndexError\u001b[0m: list index out of range"
          ]
        }
      ]
    },
    {
      "cell_type": "code",
      "source": [
        "urunler=[[\"ayakb\",150],[\"pantol\",120],[\"gomlk\",100],[\"ceket\",200]]\n",
        "def indirim(x):\n",
        "    urun, fiyat = x[0], x[1]\n",
        "    fiyat=fiyat*(9/10)\n",
        "    return[urun,fiyat]\n",
        "sonuc=list(map(indirim,urunler))\n",
        "print(sonuc)"
      ],
      "metadata": {
        "colab": {
          "base_uri": "https://localhost:8080/"
        },
        "id": "5LqHn-Ivr0GN",
        "outputId": "66f51fb2-2066-4169-e7cf-7fe742858937"
      },
      "execution_count": 2,
      "outputs": [
        {
          "output_type": "stream",
          "name": "stdout",
          "text": [
            "[['ayakb', 135.0], ['pantol', 108.0], ['gomlk', 90.0], ['ceket', 180.0]]\n"
          ]
        }
      ]
    },
    {
      "cell_type": "code",
      "source": [
        "def kare_al(x):\n",
        "    return x**2\n",
        "kare_al(4)"
      ],
      "metadata": {
        "colab": {
          "base_uri": "https://localhost:8080/"
        },
        "id": "v0W0XEDlY68w",
        "outputId": "86f0b64c-12bd-4871-faa9-0fe7b04f76ef"
      },
      "execution_count": 2,
      "outputs": [
        {
          "output_type": "execute_result",
          "data": {
            "text/plain": [
              "16"
            ]
          },
          "metadata": {},
          "execution_count": 2
        }
      ]
    },
    {
      "cell_type": "code",
      "source": [
        "sayilar=[*range(1,6)]\n",
        "sayilar"
      ],
      "metadata": {
        "colab": {
          "base_uri": "https://localhost:8080/"
        },
        "id": "Xq-TdtpdfVnV",
        "outputId": "f8dad654-2f83-4642-e502-124b7869a13c"
      },
      "execution_count": 3,
      "outputs": [
        {
          "output_type": "execute_result",
          "data": {
            "text/plain": [
              "[1, 2, 3, 4, 5]"
            ]
          },
          "metadata": {},
          "execution_count": 3
        }
      ]
    },
    {
      "cell_type": "code",
      "source": [
        "sayilar=[*range(1,6)]\n",
        "print(sayilar)\n",
        "for index in range(len(sayilar)):\n",
        "    sayilar[index]=kare_al(sayilar[index])\n",
        "print(sayilar)"
      ],
      "metadata": {
        "colab": {
          "base_uri": "https://localhost:8080/"
        },
        "id": "WTJ0AQrCfpWM",
        "outputId": "f821eaf9-a8b3-443f-c981-e6a40fc3efd4"
      },
      "execution_count": 7,
      "outputs": [
        {
          "output_type": "stream",
          "name": "stdout",
          "text": [
            "[1, 2, 3, 4, 5]\n",
            "[1, 4, 9, 16, 25]\n"
          ]
        }
      ]
    },
    {
      "cell_type": "code",
      "source": [
        "sayilar=list(range(1,6))\n",
        "sayilar\n",
        "[map(kare_al,sayilar)]"
      ],
      "metadata": {
        "colab": {
          "base_uri": "https://localhost:8080/"
        },
        "id": "Wu5drhvegBNL",
        "outputId": "797be8d8-9cab-4da8-8dd0-c912521064f1"
      },
      "execution_count": 23,
      "outputs": [
        {
          "output_type": "execute_result",
          "data": {
            "text/plain": [
              "[<map at 0x7fd2cc39c0d0>]"
            ]
          },
          "metadata": {},
          "execution_count": 23
        }
      ]
    },
    {
      "cell_type": "code",
      "source": [
        ""
      ],
      "metadata": {
        "id": "qwlKuiqdkCJk"
      },
      "execution_count": null,
      "outputs": []
    },
    {
      "cell_type": "code",
      "source": [
        "sayilar=[*range(1,6)]\n",
        "[*map(kare_al,sayilar)]"
      ],
      "metadata": {
        "colab": {
          "base_uri": "https://localhost:8080/"
        },
        "id": "LGVuPI-NhIon",
        "outputId": "9fa57391-598f-4071-d9f6-9b58efe097bf"
      },
      "execution_count": 13,
      "outputs": [
        {
          "output_type": "execute_result",
          "data": {
            "text/plain": [
              "[1, 4, 9, 16, 25]"
            ]
          },
          "metadata": {},
          "execution_count": 13
        }
      ]
    },
    {
      "cell_type": "code",
      "source": [
        "def cift_fil(x):\n",
        "  if x%2==0:\n",
        "    return x\n",
        "cift_fil(9)"
      ],
      "metadata": {
        "id": "1Tq19vZAhDO7"
      },
      "execution_count": 17,
      "outputs": []
    },
    {
      "cell_type": "code",
      "source": [
        "sayilar=[*range(1,6)]\n",
        "[*filter(cift_fil,sayilar)]"
      ],
      "metadata": {
        "colab": {
          "base_uri": "https://localhost:8080/"
        },
        "id": "QMlokMaHiFPD",
        "outputId": "ac15ebb5-a302-4384-af40-1bc18a12c4e1"
      },
      "execution_count": 18,
      "outputs": [
        {
          "output_type": "execute_result",
          "data": {
            "text/plain": [
              "[2, 4]"
            ]
          },
          "metadata": {},
          "execution_count": 18
        }
      ]
    },
    {
      "cell_type": "code",
      "source": [
        "sayilar=list(range(1,6))\n",
        "sayilar"
      ],
      "metadata": {
        "colab": {
          "base_uri": "https://localhost:8080/"
        },
        "id": "koT26pfvg4_B",
        "outputId": "c519d6d7-89d4-4cca-e359-32b9493f56a0"
      },
      "execution_count": 24,
      "outputs": [
        {
          "output_type": "execute_result",
          "data": {
            "text/plain": [
              "[1, 2, 3, 4, 5]"
            ]
          },
          "metadata": {},
          "execution_count": 24
        }
      ]
    },
    {
      "cell_type": "code",
      "source": [
        "#lambda\n",
        "list(map(lambda sayi: sayi**2,sayilar))"
      ],
      "metadata": {
        "colab": {
          "base_uri": "https://localhost:8080/"
        },
        "id": "2FI5d-V5Y6_M",
        "outputId": "c9c51986-3568-4e19-ae8e-7e65ce0e80f8"
      },
      "execution_count": 26,
      "outputs": [
        {
          "output_type": "execute_result",
          "data": {
            "text/plain": [
              "[1, 4, 9, 16, 25]"
            ]
          },
          "metadata": {},
          "execution_count": 26
        }
      ]
    },
    {
      "cell_type": "code",
      "source": [
        ""
      ],
      "metadata": {
        "id": "0K1CAXg40KnY"
      },
      "execution_count": null,
      "outputs": []
    },
    {
      "cell_type": "code",
      "source": [
        ""
      ],
      "metadata": {
        "id": "2usJLu7zY7Da"
      },
      "execution_count": null,
      "outputs": []
    }
  ]
}