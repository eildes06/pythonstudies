{
  "nbformat": 4,
  "nbformat_minor": 0,
  "metadata": {
    "colab": {
      "name": "Multiplecond.ipynb",
      "provenance": [],
      "authorship_tag": "ABX9TyM92QSp1CGkZHOmg3HyQd0U",
      "include_colab_link": true
    },
    "kernelspec": {
      "name": "python3",
      "display_name": "Python 3"
    },
    "language_info": {
      "name": "python"
    }
  },
  "cells": [
    {
      "cell_type": "markdown",
      "metadata": {
        "id": "view-in-github",
        "colab_type": "text"
      },
      "source": [
        "<a href=\"https://colab.research.google.com/github/eildes06/pythonstudies/blob/main/Multiplecond.ipynb\" target=\"_parent\"><img src=\"https://colab.research.google.com/assets/colab-badge.svg\" alt=\"Open In Colab\"/></a>"
      ]
    },
    {
      "cell_type": "code",
      "execution_count": 5,
      "metadata": {
        "colab": {
          "base_uri": "https://localhost:8080/"
        },
        "id": "-h57ayCwxa2h",
        "outputId": "ff31ff95-586d-4650-f9cf-0745bf8dc007"
      },
      "outputs": [
        {
          "output_type": "stream",
          "name": "stdout",
          "text": [
            "give the province: Alberta\n",
            "0.05\n"
          ]
        }
      ],
      "source": [
        "province=input(\"give the province: \")\n",
        "if province == \"Alberta\":\n",
        "  tax= 0.05\n",
        "elif province == \"Nunavut\":\n",
        "    tax=0.05\n",
        "elif province ==\"Ontario\":\n",
        "      tax =0.13\n",
        "else :\n",
        "        tax= 0.5\n",
        "print(tax)\n",
        "\n",
        "    "
      ]
    },
    {
      "cell_type": "code",
      "source": [
        "province=input(\"give the province: \")\n",
        "if province == \"Alberta\"\\\n",
        "   or  province == \"Nunavut\":\n",
        "    tax=0.05\n",
        "elif province ==\"Ontario\":\n",
        "      tax =0.13\n",
        "else :\n",
        "        tax= 0.5\n",
        "print(tax)\n"
      ],
      "metadata": {
        "colab": {
          "base_uri": "https://localhost:8080/"
        },
        "id": "PUNXBJ4KyyDW",
        "outputId": "0c11b275-8848-4331-ffd0-3058ed0ca373"
      },
      "execution_count": 9,
      "outputs": [
        {
          "output_type": "stream",
          "name": "stdout",
          "text": [
            "give the province: England\n",
            "0.5\n"
          ]
        }
      ]
    },
    {
      "cell_type": "code",
      "source": [
        "province=input(\"give the province: \")\n",
        "if province in(\"Alberta\",\\\n",
        "               \"Nunavut\", \"yukan\") :\n",
        "    tax=0.05\n",
        "elif province ==\"Ontario\":\n",
        "      tax =0.13\n",
        "else :\n",
        "        tax= 0.5\n",
        "print(tax)\n"
      ],
      "metadata": {
        "colab": {
          "base_uri": "https://localhost:8080/"
        },
        "id": "WOytu8QyyyRX",
        "outputId": "03092b78-ceac-4a82-e273-f233be206a03"
      },
      "execution_count": 11,
      "outputs": [
        {
          "output_type": "stream",
          "name": "stdout",
          "text": [
            "give the province: yukan\n",
            "0.05\n"
          ]
        }
      ]
    }
  ]
}