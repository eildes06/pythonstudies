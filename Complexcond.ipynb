{
  "nbformat": 4,
  "nbformat_minor": 0,
  "metadata": {
    "colab": {
      "name": "Complexcond.ipynb",
      "provenance": [],
      "authorship_tag": "ABX9TyOZb1PH11yIwp28wxZTOtQc",
      "include_colab_link": true
    },
    "kernelspec": {
      "name": "python3",
      "display_name": "Python 3"
    },
    "language_info": {
      "name": "python"
    }
  },
  "cells": [
    {
      "cell_type": "markdown",
      "metadata": {
        "id": "view-in-github",
        "colab_type": "text"
      },
      "source": [
        "<a href=\"https://colab.research.google.com/github/eildes06/pythonstudies/blob/main/Complexcond.ipynb\" target=\"_parent\"><img src=\"https://colab.research.google.com/assets/colab-badge.svg\" alt=\"Open In Colab\"/></a>"
      ]
    },
    {
      "cell_type": "code",
      "execution_count": 9,
      "metadata": {
        "colab": {
          "base_uri": "https://localhost:8080/",
          "height": 132
        },
        "id": "pV2P_LsPf01j",
        "outputId": "605bcd1b-a7ee-4fa0-84a4-ce57864cf58f"
      },
      "outputs": [
        {
          "output_type": "error",
          "ename": "SyntaxError",
          "evalue": "ignored",
          "traceback": [
            "\u001b[0;36m  File \u001b[0;32m\"<ipython-input-9-0220ce1bd882>\"\u001b[0;36m, line \u001b[0;32m4\u001b[0m\n\u001b[0;31m    if gpa >= 0.85 and lowest_grade >= 0.70 :\u001b[0m\n\u001b[0m                                            ^\u001b[0m\n\u001b[0;31mSyntaxError\u001b[0m\u001b[0;31m:\u001b[0m invalid syntax\n"
          ]
        }
      ],
      "source": [
        "\n",
        "gpa =float(input(\"your gpa: \"))\n",
        "lowest_grade=float(input(\"lowest grade: \")\n",
        "if gpa >= 0.85 and lowest_grade >= 0.70 :\n",
        "         print(\"well done\")\n",
        "#if gpa >= 0.85 and lowest_grade >=.70:\n",
        "  #print(\"well done\")"
      ]
    },
    {
      "cell_type": "code",
      "source": [
        "gpa =float(input(\"your gpa: \"))\n",
        "lowest_grade=float(input(\"lowest grade: \")\n",
        "if gpa >= 0.85 and lowest_grade >= 0.70:\n",
        "         print(\"well done\")"
      ],
      "metadata": {
        "colab": {
          "base_uri": "https://localhost:8080/",
          "height": 132
        },
        "id": "j5jGZ9SWjhF-",
        "outputId": "12f7bb66-f536-4ffa-b6ed-06ec36ac09d7"
      },
      "execution_count": 11,
      "outputs": [
        {
          "output_type": "error",
          "ename": "SyntaxError",
          "evalue": "ignored",
          "traceback": [
            "\u001b[0;36m  File \u001b[0;32m\"<ipython-input-11-55434ed0c160>\"\u001b[0;36m, line \u001b[0;32m3\u001b[0m\n\u001b[0;31m    if gpa >= 0.85 and lowest_grade >= 0.70:\u001b[0m\n\u001b[0m                                           ^\u001b[0m\n\u001b[0;31mSyntaxError\u001b[0m\u001b[0;31m:\u001b[0m invalid syntax\n"
          ]
        }
      ]
    },
    {
      "cell_type": "code",
      "source": [
        ""
      ],
      "metadata": {
        "id": "iTyKOZS5jhJO"
      },
      "execution_count": null,
      "outputs": []
    }
  ]
}