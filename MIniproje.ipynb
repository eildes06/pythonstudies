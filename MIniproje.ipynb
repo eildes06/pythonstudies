{
  "nbformat": 4,
  "nbformat_minor": 0,
  "metadata": {
    "colab": {
      "name": "MIniproje.ipynb",
      "provenance": [],
      "authorship_tag": "ABX9TyMeJDfCTQfwJ1iHZxYlv1my",
      "include_colab_link": true
    },
    "kernelspec": {
      "name": "python3",
      "display_name": "Python 3"
    },
    "language_info": {
      "name": "python"
    }
  },
  "cells": [
    {
      "cell_type": "markdown",
      "metadata": {
        "id": "view-in-github",
        "colab_type": "text"
      },
      "source": [
        "<a href=\"https://colab.research.google.com/github/eildes06/pythonstudies/blob/main/MIniproje.ipynb\" target=\"_parent\"><img src=\"https://colab.research.google.com/assets/colab-badge.svg\" alt=\"Open In Colab\"/></a>"
      ]
    },
    {
      "cell_type": "code",
      "execution_count": 6,
      "metadata": {
        "colab": {
          "base_uri": "https://localhost:8080/"
        },
        "id": "U7jj1-it2VOa",
        "outputId": "6ae9a5e8-e9c3-4715-bc30-268680679eae"
      },
      "outputs": [
        {
          "output_type": "stream",
          "name": "stdout",
          "text": [
            "list Methods:                 set methods:                  string methods:               Dict Methods:                 Tupple Methods                --------add                           capitalize                    clear                         count                         --------clear                         casefold                      copy                          index                         --------copy                          center                        fromkeys                      ----------------difference                    count                         get                           ----------------difference_update             encode                        items                         ----------------discard                       endswith                      keys                          ----------------intersection                  expandtabs                    pop                           ----------------intersection_update           find                          popitem                       ----------------isdisjoint                    format                        setdefault                    ----------------issubset                      format_map                    update                        ----------------issuperset                    index                         values                        ----------------pop                           isalnum                       ------------------------remove                        isalpha                       ------------------------symmetric_difference          isascii                       ------------------------symmetric_difference_update   isdecimal                     ------------------------union                         isdigit                       ------------------------update                        isidentifier                  --------------------------------islower                       --------------------------------isnumeric                     --------------------------------isprintable                   --------------------------------isspace                       --------------------------------istitle                       --------------------------------isupper                       --------------------------------join                          --------------------------------ljust                         --------------------------------lower                         --------------------------------lstrip                        --------------------------------maketrans                     --------------------------------partition                     --------------------------------replace                       --------------------------------rfind                         --------------------------------rindex                        --------------------------------rjust                         --------------------------------rpartition                    --------------------------------rsplit                        --------------------------------rstrip                        --------------------------------split                         --------------------------------splitlines                    --------------------------------startswith                    --------------------------------strip                         --------------------------------swapcase                      --------------------------------title                         --------------------------------translate                     --------------------------------upper                         --------------------------------zfill                         ----------------"
          ]
        }
      ],
      "source": [
        "list_methods =[]\n",
        "for method in dir(list):\n",
        "  if method.startswith(\"__\"):\n",
        "    continue\n",
        "    list_methods.append(method)\n",
        "set_methods =[]\n",
        "for method in dir(set):\n",
        "  if method.startswith(\"__\"):\n",
        "    continue\n",
        "  set_methods.append(method)\n",
        "\n",
        "str_methods =[]\n",
        "for method in dir(str):\n",
        "  if method.startswith(\"__\"):\n",
        "    continue\n",
        "  str_methods.append(method)\n",
        "dict_methods =[]\n",
        "for method in dir(dict):\n",
        "  if method.startswith(\"__\"):\n",
        "    continue\n",
        "  dict_methods.append(method)\n",
        "tuple_methods =[]\n",
        "for method in dir(tuple):\n",
        "  if method.startswith(\"__\"):\n",
        "    continue\n",
        "  tuple_methods.append(method)\n",
        "\n",
        "\n",
        "basliklar=[\"list Methods: \",\"set methods: \",\"string methods: \",\"Dict Methods: \",\"Tupple Methods\"]\n",
        "classes=[list_methods,set_methods,str_methods,dict_methods,tuple_methods]\n",
        "\n",
        "max_len=0\n",
        "for class_ in classes:\n",
        "  if len(class_)>max_len:\n",
        "    max_len=len(class_)\n",
        "for baslik in basliklar:\n",
        "  print(baslik,end=\"\")\n",
        "  print(\" \"* (30-len(baslik)),end=\"\")\n",
        "for i in range(max_len):\n",
        "    for class_ in classes:\n",
        "      if i >=len(class_):\n",
        "        print(\"--------\",end=\"\")\n",
        "        print(\"\"*23,end=\"\")\n",
        "      else:\n",
        "        print(class_[i],end=\"\")\n",
        "        print(\" \"*(30-len(class_[i])),end=\"\")\n",
        "\n"
      ]
    },
    {
      "cell_type": "markdown",
      "source": [
        ""
      ],
      "metadata": {
        "id": "BNXa3bpW8DI7"
      }
    },
    {
      "cell_type": "code",
      "source": [
        ""
      ],
      "metadata": {
        "id": "cgrjrpjL2cDP"
      },
      "execution_count": null,
      "outputs": []
    },
    {
      "cell_type": "code",
      "source": [
        ""
      ],
      "metadata": {
        "id": "OiCc4QP52cGn"
      },
      "execution_count": null,
      "outputs": []
    },
    {
      "cell_type": "code",
      "source": [
        ""
      ],
      "metadata": {
        "id": "aw0LwFxS2cJ5"
      },
      "execution_count": null,
      "outputs": []
    }
  ]
}