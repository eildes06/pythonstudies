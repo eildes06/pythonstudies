{
  "nbformat": 4,
  "nbformat_minor": 0,
  "metadata": {
    "colab": {
      "name": "Modkopya.ipynb",
      "provenance": [],
      "authorship_tag": "ABX9TyM17L3vDz43xpzGHxH/1qmA",
      "include_colab_link": true
    },
    "kernelspec": {
      "name": "python3",
      "display_name": "Python 3"
    },
    "language_info": {
      "name": "python"
    }
  },
  "cells": [
    {
      "cell_type": "markdown",
      "metadata": {
        "id": "view-in-github",
        "colab_type": "text"
      },
      "source": [
        "<a href=\"https://colab.research.google.com/github/eildes06/pythonstudies/blob/main/Modkopya.ipynb\" target=\"_parent\"><img src=\"https://colab.research.google.com/assets/colab-badge.svg\" alt=\"Open In Colab\"/></a>"
      ]
    },
    {
      "cell_type": "code",
      "execution_count": 1,
      "metadata": {
        "colab": {
          "base_uri": "https://localhost:8080/"
        },
        "id": "gmlmAVkDtZAS",
        "outputId": "ea283a94-b4c8-4ab9-fcad-b441597f7ce3"
      },
      "outputs": [
        {
          "output_type": "stream",
          "name": "stdout",
          "text": [
            "x ortalması: 7.0,\n",
            "y ortalması: 7.904761904761905\n",
            "x medyan: 7.0,\n",
            "y medyan: 9\n",
            "x standart sapma: 2.9832867780352594,\n",
            "y standart sapma: 5.371040175083247\n",
            "x varyans: 8.899999999999999,\n",
            "y varyans: 28.84807256235828\n"
          ]
        }
      ],
      "source": [
        "# Verilerin tanımlanması\n",
        "x = [9, 2, 5, 4, 12, 7, 8, 11, 9, 3, 7, 4, 12, 5, 4, 10, 9, 6, 9, 4]\n",
        "y = [1,1,1,2,2,2,3,3,5,8,9,9,9,15,15,14,13,12,12,15,15]\n",
        "\n",
        "# Fonksiyonlar\n",
        "def ortalamaBul(vektor):\n",
        "    veriAdedi = len(vektor)\n",
        "    if veriAdedi <= 1:\n",
        "        return vektor\n",
        "    else:\n",
        "        return sum(vektor) / veriAdedi\n",
        "\n",
        "def medyanBul(vektor):\n",
        "    vektor = sorted(vektor)\n",
        "    veriAdedi = len(vektor)\n",
        "    if veriAdedi % 2 == 1:\n",
        "        return vektor[veriAdedi // 2]\n",
        "    else:\n",
        "        i = veriAdedi // 2\n",
        "        return (vektor[i - 1] + vektor[i]) / 2\n",
        "\n",
        "\n",
        "def standartSapmaBul(vektor):\n",
        "    sd = 0.0 # standart sapma\n",
        "    veriAdedi = len(vektor)\n",
        "    if veriAdedi <= 1:\n",
        "        return 0.0\n",
        "    else:\n",
        "        for _ in vektor:\n",
        "            sd += (float(_) - ortalamaBul(vektor)) ** 2\n",
        "        sd = (sd / float(veriAdedi)) ** 0.5\n",
        "        return sd\n",
        "\n",
        "def varyansBul(vektor):\n",
        "    return standartSapmaBul(vektor) ** 2\n",
        "\n",
        "# Çıktılar\n",
        "print(f\"x ortalması: {ortalamaBul(x)},\\n\"\n",
        "      f\"y ortalması: {ortalamaBul(y)}\")\n",
        "\n",
        "print(f\"x medyan: {medyanBul(x)},\\n\"\n",
        "      f\"y medyan: {medyanBul(y)}\")\n",
        "\n",
        "print(f\"x standart sapma: {standartSapmaBul(x)},\\n\"\n",
        "      f\"y standart sapma: {standartSapmaBul(y)}\")\n",
        "\n",
        "print(f\"x varyans: {varyansBul(x)},\\n\"\n",
        "      f\"y varyans: {varyansBul(y)}\")"
      ]
    }
  ]
}