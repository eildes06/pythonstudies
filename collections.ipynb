{
  "nbformat": 4,
  "nbformat_minor": 0,
  "metadata": {
    "colab": {
      "name": "collections.ipynb",
      "provenance": [],
      "authorship_tag": "ABX9TyOTDn0jfa4e0f966EeaLSqS",
      "include_colab_link": true
    },
    "kernelspec": {
      "name": "python3",
      "display_name": "Python 3"
    },
    "language_info": {
      "name": "python"
    }
  },
  "cells": [
    {
      "cell_type": "markdown",
      "metadata": {
        "id": "view-in-github",
        "colab_type": "text"
      },
      "source": [
        "<a href=\"https://colab.research.google.com/github/eildes06/pythonstudies/blob/main/collections.ipynb\" target=\"_parent\"><img src=\"https://colab.research.google.com/assets/colab-badge.svg\" alt=\"Open In Colab\"/></a>"
      ]
    },
    {
      "cell_type": "code",
      "execution_count": 2,
      "metadata": {
        "colab": {
          "base_uri": "https://localhost:8080/"
        },
        "id": "vIGJo3prkCZL",
        "outputId": "3e09ff57-4dd5-4df9-dc4f-024379beccb7"
      },
      "outputs": [
        {
          "output_type": "stream",
          "name": "stdout",
          "text": [
            "['chi', 'su']\n",
            "[98, 99]\n",
            "98\n"
          ]
        }
      ],
      "source": [
        "#list are colletions items(append)\n",
        "names=[\"chi\",\"su\"]\n",
        "scores=[]\n",
        "scores.append(98)\n",
        "scores.append(99)\n",
        "print(names)\n",
        "print(scores)\n",
        "print(scores[0])"
      ]
    },
    {
      "cell_type": "code",
      "source": [
        "#array to use it you import it\n",
        "from array import array\n",
        "scores = array(\"d\")\n",
        "scores.append(97)\n",
        "scores.append(98)\n",
        "print(scores)\n",
        "print(scores[0])"
      ],
      "metadata": {
        "colab": {
          "base_uri": "https://localhost:8080/"
        },
        "id": "ZBHqmQLklMWR",
        "outputId": "721ddb44-3d04-4f9e-a28f-001a056d2c5d"
      },
      "execution_count": 4,
      "outputs": [
        {
          "output_type": "stream",
          "name": "stdout",
          "text": [
            "array('d', [97.0, 98.0])\n",
            "97.0\n"
          ]
        }
      ]
    },
    {
      "cell_type": "code",
      "source": [
        "names =[\"su\",\"chi\"]\n",
        "print(len(names))\n",
        "names.insert(6,\"bill\")\n",
        "print(names)\n",
        "names.sort()\n",
        "print(names)"
      ],
      "metadata": {
        "colab": {
          "base_uri": "https://localhost:8080/"
        },
        "id": "bYlbcPtklMYX",
        "outputId": "0c0dde96-e607-47f4-b1ac-bda21b7d7163"
      },
      "execution_count": 8,
      "outputs": [
        {
          "output_type": "stream",
          "name": "stdout",
          "text": [
            "2\n",
            "['su', 'chi', 'bill']\n",
            "['bill', 'chi', 'su']\n"
          ]
        }
      ]
    },
    {
      "cell_type": "code",
      "source": [
        "names =[\"su\",\"sch\",\"bill\",\"just\"]\n",
        "presenter =names[1:3]\n",
        "print(names)\n",
        "print(presenter)"
      ],
      "metadata": {
        "colab": {
          "base_uri": "https://localhost:8080/"
        },
        "id": "xNVZs6FelMbo",
        "outputId": "29345739-0e9d-43f2-c483-975c5c5bb8d1"
      },
      "execution_count": 9,
      "outputs": [
        {
          "output_type": "stream",
          "name": "stdout",
          "text": [
            "['su', 'sch', 'bill', 'just']\n",
            "['sch', 'bill']\n"
          ]
        }
      ]
    },
    {
      "cell_type": "code",
      "source": [
        "person ={\"first\": \"chris\"}\n",
        "person[\"last\"]=\"harison\"\n",
        "print(person)\n",
        "print(person[\"first\"])"
      ],
      "metadata": {
        "colab": {
          "base_uri": "https://localhost:8080/"
        },
        "id": "7Q5h-OrW8htN",
        "outputId": "ddec61a4-3314-4d89-b4be-1cb9c35f9d36"
      },
      "execution_count": 10,
      "outputs": [
        {
          "output_type": "stream",
          "name": "stdout",
          "text": [
            "{'first': 'chris', 'last': 'harison'}\n",
            "chris\n"
          ]
        }
      ]
    },
    {
      "cell_type": "code",
      "source": [
        "chris={}\n",
        "chris[\"first\"]=\"chris\"\n",
        "chris[\"last\"]=\"har\"\n",
        "\n",
        "susan={}\n",
        "susan[\"first\"]=\"susan\"\n",
        "susan[\"last\"]=\"iba\"\n",
        "\n",
        "people=[]\n",
        "people.append(chris)\n",
        "people.append(susan)\n",
        "people.append({\"first:\":\"bill\", \"last\": \"gates\"})\n",
        "print(people)"
      ],
      "metadata": {
        "colab": {
          "base_uri": "https://localhost:8080/"
        },
        "id": "45PQ0WXa97rZ",
        "outputId": "45f4085e-d14d-456c-ee2e-435e20f93de4"
      },
      "execution_count": 11,
      "outputs": [
        {
          "output_type": "stream",
          "name": "stdout",
          "text": [
            "[{'first': 'chris', 'last': 'har'}, {'first': 'susan', 'last': 'iba'}, {'first:': 'bill', 'last': 'gates'}]\n"
          ]
        }
      ]
    },
    {
      "cell_type": "code",
      "source": [
        ""
      ],
      "metadata": {
        "id": "PjAcsPmD97uH"
      },
      "execution_count": null,
      "outputs": []
    }
  ]
}