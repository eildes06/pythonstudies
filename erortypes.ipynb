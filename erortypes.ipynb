{
  "nbformat": 4,
  "nbformat_minor": 0,
  "metadata": {
    "colab": {
      "name": "erortypes.ipynb",
      "provenance": [],
      "collapsed_sections": [],
      "authorship_tag": "ABX9TyOGIPTZAzu8VzLUbme+a1+I",
      "include_colab_link": true
    },
    "kernelspec": {
      "name": "python3",
      "display_name": "Python 3"
    },
    "language_info": {
      "name": "python"
    }
  },
  "cells": [
    {
      "cell_type": "markdown",
      "metadata": {
        "id": "view-in-github",
        "colab_type": "text"
      },
      "source": [
        "<a href=\"https://colab.research.google.com/github/eildes06/pythonstudies/blob/main/erortypes.ipynb\" target=\"_parent\"><img src=\"https://colab.research.google.com/assets/colab-badge.svg\" alt=\"Open In Colab\"/></a>"
      ]
    },
    {
      "cell_type": "code",
      "execution_count": null,
      "metadata": {
        "id": "JGbwyXCxMnoe"
      },
      "outputs": [],
      "source": [
        "#Eror types\n",
        "#1.sytax (our code doesnt work)\n",
        "#2.runtime (code is running but it ll going to blow up, it will fail when it run)(zerodivision error)\n",
        "#3.logic eror"
      ]
    },
    {
      "cell_type": "code",
      "source": [
        "try :\n",
        "  print(x/y)\n",
        "except ZeroDivisionError as e:\n",
        "  print(\"sory, smyhing wrong\")\n",
        "except:\n",
        "  print(\"smthing realy went wrong\")\n",
        "finally:\n",
        "      print(\"this runs on succes or fail\")\n"
      ],
      "metadata": {
        "colab": {
          "base_uri": "https://localhost:8080/"
        },
        "id": "NB6DYmoBNyCM",
        "outputId": "6fd31199-9183-43f2-c3e6-d95ad1bb63b0"
      },
      "execution_count": 2,
      "outputs": [
        {
          "output_type": "stream",
          "name": "stdout",
          "text": [
            "smthing realy went wrong\n",
            "this runs on succes or fail\n"
          ]
        }
      ]
    },
    {
      "cell_type": "code",
      "source": [
        "#logic eror\n",
        "\n",
        "x=206\n",
        "y=42\n",
        "if x<y :\n",
        "  print(str(x)+ 'is greater than' + str(y))"
      ],
      "metadata": {
        "id": "iBeaDCeZNyFD"
      },
      "execution_count": 4,
      "outputs": []
    },
    {
      "cell_type": "code",
      "source": [
        "x= 42\n",
        "y= 0\n",
        "print()\n",
        "try:\n",
        "   print(x/y)\n",
        "except ZeroDivisionError as e:\n",
        "   print(\"not allowed\")\n",
        "else:\n",
        "   print(\"smthng went wrong\")\n",
        "finally:\n",
        "   print(\"this is our cleanup code\")"
      ],
      "metadata": {
        "colab": {
          "base_uri": "https://localhost:8080/"
        },
        "id": "qwQ4ZooaNyHg",
        "outputId": "b3987823-dfb7-4a2e-b74e-0076918ff9ca"
      },
      "execution_count": 5,
      "outputs": [
        {
          "output_type": "stream",
          "name": "stdout",
          "text": [
            "\n",
            "not allowed\n",
            "this is our cleanup code\n"
          ]
        }
      ]
    },
    {
      "cell_type": "code",
      "source": [
        "price=10\n",
        "if price >= 1.00:\n",
        "  tax=.07\n",
        "  print(tax)\n",
        "else :\n",
        "    tax =0\n",
        "    print(tax)"
      ],
      "metadata": {
        "colab": {
          "base_uri": "https://localhost:8080/"
        },
        "id": "Cphm5jJMRkHP",
        "outputId": "02a654b5-74f0-4f81-e99d-561bef867de1"
      },
      "execution_count": 9,
      "outputs": [
        {
          "output_type": "stream",
          "name": "stdout",
          "text": [
            "0.07\n"
          ]
        }
      ]
    },
    {
      "cell_type": "code",
      "source": [
        "price=10\n",
        "if price >= 1.00:\n",
        "  tax=.07\n",
        "  \n",
        "else :\n",
        "    tax =0\n",
        "print(tax)"
      ],
      "metadata": {
        "colab": {
          "base_uri": "https://localhost:8080/"
        },
        "id": "bFTM5LopRkI-",
        "outputId": "51e3e202-be45-4b60-8ad3-2a2afb861b1a"
      },
      "execution_count": 10,
      "outputs": [
        {
          "output_type": "stream",
          "name": "stdout",
          "text": [
            "0.07\n"
          ]
        }
      ]
    },
    {
      "cell_type": "code",
      "source": [
        "country=\"canada\"\n",
        "if country ==\"canada\": \n",
        "  print(\"look canada\")\n",
        "else :\n",
        "  print(\"not canada:)\")"
      ],
      "metadata": {
        "colab": {
          "base_uri": "https://localhost:8080/"
        },
        "id": "2RUP6tH7RkMw",
        "outputId": "55c923f5-5841-46c5-b6bd-75031c933cd0"
      },
      "execution_count": 13,
      "outputs": [
        {
          "output_type": "stream",
          "name": "stdout",
          "text": [
            "look canada\n"
          ]
        }
      ]
    },
    {
      "cell_type": "code",
      "source": [
        "country=\"Canada\"\n",
        "if country ==\"canada\": \n",
        "  print(\"look canada\")\n",
        "else :\n",
        "  print(\"not canada:)\")"
      ],
      "metadata": {
        "colab": {
          "base_uri": "https://localhost:8080/"
        },
        "id": "AOKgdJbNSnt5",
        "outputId": "c942fa85-22a1-451d-ef33-fa10f188a085"
      },
      "execution_count": 15,
      "outputs": [
        {
          "output_type": "stream",
          "name": "stdout",
          "text": [
            "not canada:)\n"
          ]
        }
      ]
    },
    {
      "cell_type": "code",
      "source": [
        "country=\"CaNADA\"\n",
        "if country.lower() ==\"canada\": \n",
        "  print(\"look canada\")\n",
        "else :\n",
        "  print(\"not canada:)\")"
      ],
      "metadata": {
        "colab": {
          "base_uri": "https://localhost:8080/"
        },
        "id": "2MOrU_XASnxH",
        "outputId": "4b14f5d2-cd09-47d6-e8da-ea62f9631d31"
      },
      "execution_count": 16,
      "outputs": [
        {
          "output_type": "stream",
          "name": "stdout",
          "text": [
            "look canada\n"
          ]
        }
      ]
    },
    {
      "cell_type": "code",
      "source": [
        ""
      ],
      "metadata": {
        "id": "aFGINWOgSn0K"
      },
      "execution_count": null,
      "outputs": []
    }
  ]
}