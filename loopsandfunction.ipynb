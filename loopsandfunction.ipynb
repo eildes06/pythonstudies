{
  "nbformat": 4,
  "nbformat_minor": 0,
  "metadata": {
    "colab": {
      "name": "loopsandfunction.ipynb",
      "provenance": [],
      "authorship_tag": "ABX9TyM2CyxAEa9Y5KlHqyDqKbzc",
      "include_colab_link": true
    },
    "kernelspec": {
      "name": "python3",
      "display_name": "Python 3"
    },
    "language_info": {
      "name": "python"
    }
  },
  "cells": [
    {
      "cell_type": "markdown",
      "metadata": {
        "id": "view-in-github",
        "colab_type": "text"
      },
      "source": [
        "<a href=\"https://colab.research.google.com/github/eildes06/pythonstudies/blob/main/loopsandfunction.ipynb\" target=\"_parent\"><img src=\"https://colab.research.google.com/assets/colab-badge.svg\" alt=\"Open In Colab\"/></a>"
      ]
    },
    {
      "cell_type": "code",
      "execution_count": 4,
      "metadata": {
        "id": "DRuCAned_W7F",
        "colab": {
          "base_uri": "https://localhost:8080/"
        },
        "outputId": "4f1fbbe4-1e3a-43d9-df1a-a7e461b765f2"
      },
      "outputs": [
        {
          "output_type": "stream",
          "name": "stdout",
          "text": [
            "chris\n",
            "su\n"
          ]
        }
      ],
      "source": [
        "for name in [\"chris\",\"su\"]:\n",
        "    print(name)"
      ]
    },
    {
      "cell_type": "code",
      "source": [
        "for index in range(0,2):\n",
        "  print(index)"
      ],
      "metadata": {
        "colab": {
          "base_uri": "https://localhost:8080/"
        },
        "id": "2hqgct6_dQCX",
        "outputId": "5a37eb89-fedd-43cf-c3b4-a214bb51d270"
      },
      "execution_count": 5,
      "outputs": [
        {
          "output_type": "stream",
          "name": "stdout",
          "text": [
            "0\n",
            "1\n"
          ]
        }
      ]
    },
    {
      "cell_type": "code",
      "source": [
        "names=[\"chi\", \"su\"]\n",
        "index=0\n",
        "while index < len(names):\n",
        "      print(names[index])\n",
        "      index=index+1"
      ],
      "metadata": {
        "colab": {
          "base_uri": "https://localhost:8080/"
        },
        "id": "yCDPiB2Mdo6F",
        "outputId": "2efbc434-72d3-49cf-88be-78b85ec19be0"
      },
      "execution_count": 10,
      "outputs": [
        {
          "output_type": "stream",
          "name": "stdout",
          "text": [
            "chi\n",
            "su\n"
          ]
        }
      ]
    },
    {
      "cell_type": "code",
      "source": [
        "people=[\"chi\", \"sus\"]\n",
        "for name in people:\n",
        "    print(name)"
      ],
      "metadata": {
        "colab": {
          "base_uri": "https://localhost:8080/"
        },
        "id": "odGfrPyZd8mK",
        "outputId": "021f43e7-6371-4c2b-ae7a-3622453d4714"
      },
      "execution_count": 12,
      "outputs": [
        {
          "output_type": "stream",
          "name": "stdout",
          "text": [
            "chi\n",
            "sus\n"
          ]
        }
      ]
    },
    {
      "cell_type": "code",
      "source": [
        "import datetime\n",
        "def print_time():\n",
        "    print(\"task cop\")\n",
        "    print(datetime.datetime.now())\n",
        "    print()\n"
      ],
      "metadata": {
        "id": "NQ5ES9GKeqnU"
      },
      "execution_count": 14,
      "outputs": []
    },
    {
      "cell_type": "code",
      "source": [
        "first_name=\"su\"\n",
        "print_time()\n",
        "for x in range(0,10):\n",
        "  print(x)\n",
        "  print_time()"
      ],
      "metadata": {
        "colab": {
          "base_uri": "https://localhost:8080/"
        },
        "id": "PB2mgViheqka",
        "outputId": "7c19a3d0-046f-44a3-801e-14480972fd8e"
      },
      "execution_count": 15,
      "outputs": [
        {
          "output_type": "stream",
          "name": "stdout",
          "text": [
            "task cop\n",
            "2022-01-20 22:02:14.569618\n",
            "\n",
            "0\n",
            "task cop\n",
            "2022-01-20 22:02:14.573432\n",
            "\n",
            "1\n",
            "task cop\n",
            "2022-01-20 22:02:14.574922\n",
            "\n",
            "2\n",
            "task cop\n",
            "2022-01-20 22:02:14.576249\n",
            "\n",
            "3\n",
            "task cop\n",
            "2022-01-20 22:02:14.577226\n",
            "\n",
            "4\n",
            "task cop\n",
            "2022-01-20 22:02:14.577305\n",
            "\n",
            "5\n",
            "task cop\n",
            "2022-01-20 22:02:14.577368\n",
            "\n",
            "6\n",
            "task cop\n",
            "2022-01-20 22:02:14.585118\n",
            "\n",
            "7\n",
            "task cop\n",
            "2022-01-20 22:02:14.585219\n",
            "\n",
            "8\n",
            "task cop\n",
            "2022-01-20 22:02:14.585291\n",
            "\n",
            "9\n",
            "task cop\n",
            "2022-01-20 22:02:14.585372\n",
            "\n"
          ]
        }
      ]
    },
    {
      "cell_type": "code",
      "source": [
        "from datetime import datetime"
      ],
      "metadata": {
        "id": "AfnJJYzkg4nz"
      },
      "execution_count": null,
      "outputs": []
    },
    {
      "cell_type": "code",
      "source": [
        "first_name= input(\"ur name:\")\n",
        "first_name_initial= first_name[0:1]\n",
        "\n",
        "middle_name= input(\"mid name: \")\n",
        "middle_name_initial= middle_name[0:1]\n",
        "sur_name= input(\"ur name:\")\n",
        "sur_name_initial= sur_name[0:1]\n",
        "print(\"Ur initial are: \"+ first_name_initial \\\n",
        "      +middle_name_initial + sur_name_initial)"
      ],
      "metadata": {
        "colab": {
          "base_uri": "https://localhost:8080/"
        },
        "id": "ZEd0rFI_g4q4",
        "outputId": "f13a3f53-0211-4b87-ffd9-0625cac4adb6"
      },
      "execution_count": 16,
      "outputs": [
        {
          "output_type": "stream",
          "name": "stdout",
          "text": [
            "ur name:emilly\n",
            "mid name: lei\n",
            "ur name:urs\n",
            "Ur initial are: elu\n"
          ]
        }
      ]
    },
    {
      "cell_type": "code",
      "source": [
        "def get_initial(name):\n",
        "  initial = name[0:1]\n",
        "  return initial\n",
        "first_name= input(\"ur name:\")\n",
        "first_name_initial= get_initial(first_name[0:1])\n",
        "\n",
        "middle_name= input(\"mid name: \")\n",
        "middle_name_initial= get_initial(middle_name[0:1])\n",
        "sur_name= input(\"ur name:\")\n",
        "sur_name_initial= get_initial(sur_name[0:1])\n",
        "print(\"Ur initial are: \"+ first_name_initial \\\n",
        "      +middle_name_initial + sur_name_initial)"
      ],
      "metadata": {
        "colab": {
          "base_uri": "https://localhost:8080/"
        },
        "id": "yoR_keVRg4uO",
        "outputId": "a1b90509-a25d-48c8-9284-0fb2b849a44e"
      },
      "execution_count": 17,
      "outputs": [
        {
          "output_type": "stream",
          "name": "stdout",
          "text": [
            "ur name:emily\n",
            "mid name: sa\n",
            "ur name:urs\n",
            "Ur initial are: esu\n"
          ]
        }
      ]
    },
    {
      "cell_type": "code",
      "source": [
        "def get_initial(name)\n",
        "     initial =[0:1].upper()\n",
        "     return initial"
      ],
      "metadata": {
        "id": "euwWFwIKg40J"
      },
      "execution_count": null,
      "outputs": []
    },
    {
      "cell_type": "code",
      "source": [
        ""
      ],
      "metadata": {
        "id": "ryKzr56Zeqg2"
      },
      "execution_count": null,
      "outputs": []
    },
    {
      "cell_type": "code",
      "source": [
        ""
      ],
      "metadata": {
        "id": "ZM_UV2TKeqdn"
      },
      "execution_count": null,
      "outputs": []
    }
  ]
}