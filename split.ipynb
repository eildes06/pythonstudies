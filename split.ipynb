{
  "nbformat": 4,
  "nbformat_minor": 0,
  "metadata": {
    "colab": {
      "name": "split.ipynb",
      "provenance": [],
      "authorship_tag": "ABX9TyPqTglvwF4pOLL8Dzqye0SD",
      "include_colab_link": true
    },
    "kernelspec": {
      "name": "python3",
      "display_name": "Python 3"
    },
    "language_info": {
      "name": "python"
    }
  },
  "cells": [
    {
      "cell_type": "markdown",
      "metadata": {
        "id": "view-in-github",
        "colab_type": "text"
      },
      "source": [
        "<a href=\"https://colab.research.google.com/github/eildes06/pythonstudies/blob/main/split.ipynb\" target=\"_parent\"><img src=\"https://colab.research.google.com/assets/colab-badge.svg\" alt=\"Open In Colab\"/></a>"
      ]
    },
    {
      "cell_type": "code",
      "execution_count": 1,
      "metadata": {
        "colab": {
          "base_uri": "https://localhost:8080/"
        },
        "id": "lr_89G4bdCkN",
        "outputId": "e9c31335-3b17-4d09-cff6-c2e24076d473"
      },
      "outputs": [
        {
          "output_type": "stream",
          "name": "stdout",
          "text": [
            "3\n",
            "5\n",
            "0\n"
          ]
        }
      ],
      "source": [
        "def len1(s):\n",
        "        word = s.split()\n",
        "        if len(word) == 0:\n",
        "            return 0\n",
        "        return len(word[-1])\n",
        "\n",
        "print(len1(\"Clarusway ITX\"))\n",
        "print(len1(\"Python quest\"))\n",
        "print(len1(\"\"))"
      ]
    }
  ]
}