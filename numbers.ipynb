{
  "nbformat": 4,
  "nbformat_minor": 0,
  "metadata": {
    "colab": {
      "name": "numbers.ipynb",
      "provenance": [],
      "authorship_tag": "ABX9TyONGM04rqDdIA+naYnjpeip",
      "include_colab_link": true
    },
    "kernelspec": {
      "name": "python3",
      "display_name": "Python 3"
    },
    "language_info": {
      "name": "python"
    }
  },
  "cells": [
    {
      "cell_type": "markdown",
      "metadata": {
        "id": "view-in-github",
        "colab_type": "text"
      },
      "source": [
        "<a href=\"https://colab.research.google.com/github/eildes06/pythonstudies/blob/main/numbers.ipynb\" target=\"_parent\"><img src=\"https://colab.research.google.com/assets/colab-badge.svg\" alt=\"Open In Colab\"/></a>"
      ]
    },
    {
      "cell_type": "code",
      "execution_count": 4,
      "metadata": {
        "colab": {
          "base_uri": "https://localhost:8080/"
        },
        "id": "z5a8iPTT_TtF",
        "outputId": "d1ac0c23-e14c-45a4-9254-5a13fccd6e88"
      },
      "outputs": [
        {
          "output_type": "stream",
          "name": "stdout",
          "text": [
            "10\n",
            "-4\n",
            "2187\n",
            "21\n",
            "3\n",
            "0.42857142857142855\n"
          ]
        }
      ],
      "source": [
        "num1=3\n",
        "num2=7\n",
        "print(num1+num2)\n",
        "print(num1-num2)\n",
        "print(num1**num2)\n",
        "print(num1*num2)\n",
        "print(num1%num2)\n",
        "print(num1/num2)"
      ]
    },
    {
      "cell_type": "code",
      "source": [
        "days_feb= 28\n",
        "print(days_feb+ 'days in feb')"
      ],
      "metadata": {
        "colab": {
          "base_uri": "https://localhost:8080/",
          "height": 184
        },
        "id": "mVEXyxNvANTL",
        "outputId": "0fd0a5ce-7f46-4337-bbe4-929fd632b2b5"
      },
      "execution_count": 5,
      "outputs": [
        {
          "output_type": "error",
          "ename": "TypeError",
          "evalue": "ignored",
          "traceback": [
            "\u001b[0;31m---------------------------------------------------------------------------\u001b[0m",
            "\u001b[0;31mTypeError\u001b[0m                                 Traceback (most recent call last)",
            "\u001b[0;32m<ipython-input-5-959a634a55f7>\u001b[0m in \u001b[0;36m<module>\u001b[0;34m()\u001b[0m\n\u001b[1;32m      1\u001b[0m \u001b[0mdays_feb\u001b[0m\u001b[0;34m=\u001b[0m \u001b[0;36m28\u001b[0m\u001b[0;34m\u001b[0m\u001b[0;34m\u001b[0m\u001b[0m\n\u001b[0;32m----> 2\u001b[0;31m \u001b[0mprint\u001b[0m\u001b[0;34m(\u001b[0m\u001b[0mdays_feb\u001b[0m\u001b[0;34m+\u001b[0m \u001b[0;34m'days in feb'\u001b[0m\u001b[0;34m)\u001b[0m\u001b[0;34m\u001b[0m\u001b[0;34m\u001b[0m\u001b[0m\n\u001b[0m",
            "\u001b[0;31mTypeError\u001b[0m: unsupported operand type(s) for +: 'int' and 'str'"
          ]
        }
      ]
    },
    {
      "cell_type": "code",
      "source": [
        "days_feb= 28\n",
        "print(str(days_feb)+ 'days in feb')"
      ],
      "metadata": {
        "colab": {
          "base_uri": "https://localhost:8080/"
        },
        "id": "CTowrOdLANVm",
        "outputId": "83a05b4a-e4d8-4ee0-e10e-f1e4559b8fd5"
      },
      "execution_count": 6,
      "outputs": [
        {
          "output_type": "stream",
          "name": "stdout",
          "text": [
            "28days in feb\n"
          ]
        }
      ]
    },
    {
      "cell_type": "code",
      "source": [
        "no1=\"2\"\n",
        "no2=\"7\"\n",
        "print(no1+no2)"
      ],
      "metadata": {
        "colab": {
          "base_uri": "https://localhost:8080/"
        },
        "id": "gZJYXGihANX_",
        "outputId": "d39438de-4fdd-41ec-c792-056f87336ee9"
      },
      "execution_count": 8,
      "outputs": [
        {
          "output_type": "stream",
          "name": "stdout",
          "text": [
            "27\n"
          ]
        }
      ]
    },
    {
      "cell_type": "code",
      "source": [
        "no1=2\n",
        "no2=7\n",
        "print(no1+no2)"
      ],
      "metadata": {
        "colab": {
          "base_uri": "https://localhost:8080/"
        },
        "id": "SOYljSWsANbo",
        "outputId": "07b93953-7ba4-43e0-b169-9ba63c63c726"
      },
      "execution_count": 9,
      "outputs": [
        {
          "output_type": "stream",
          "name": "stdout",
          "text": [
            "9\n"
          ]
        }
      ]
    },
    {
      "cell_type": "code",
      "source": [
        "num1=input(\"enter first\")\n",
        "num2=input(\"enter second\")\n",
        "print(num1+num2)"
      ],
      "metadata": {
        "colab": {
          "base_uri": "https://localhost:8080/"
        },
        "id": "J0pi3j-YBKWB",
        "outputId": "5dc472f5-539f-4182-b258-042648d607ae"
      },
      "execution_count": 10,
      "outputs": [
        {
          "output_type": "stream",
          "name": "stdout",
          "text": [
            "enter first3\n",
            "enter second5\n",
            "35\n"
          ]
        }
      ]
    },
    {
      "cell_type": "code",
      "source": [
        ""
      ],
      "metadata": {
        "id": "72NVLwtmBKXs"
      },
      "execution_count": null,
      "outputs": []
    },
    {
      "cell_type": "code",
      "source": [
        "num1=int(input(\"enter first\"))\n",
        "num2=int(input(\"enter second\"))\n",
        "print(num1+num2)"
      ],
      "metadata": {
        "colab": {
          "base_uri": "https://localhost:8080/"
        },
        "outputId": "bf074ce2-7d37-418c-85e1-c1e5b52287f5",
        "id": "8bbgtKfdBlOq"
      },
      "execution_count": 13,
      "outputs": [
        {
          "output_type": "stream",
          "name": "stdout",
          "text": [
            "enter first5\n",
            "enter second8\n",
            "13\n"
          ]
        }
      ]
    },
    {
      "cell_type": "code",
      "source": [
        ""
      ],
      "metadata": {
        "id": "PvPxzoCQBKb7"
      },
      "execution_count": null,
      "outputs": []
    },
    {
      "cell_type": "code",
      "source": [
        "num1=input(\"enter first\")\n",
        "num2=input(\"enter second\")\n",
        "print(int(num1+num2))"
      ],
      "metadata": {
        "colab": {
          "base_uri": "https://localhost:8080/"
        },
        "outputId": "a37c4110-ccc8-4d2d-efe2-6d40c5518e0d",
        "id": "MnlSmFRhCG_J"
      },
      "execution_count": 14,
      "outputs": [
        {
          "output_type": "stream",
          "name": "stdout",
          "text": [
            "enter first7\n",
            "enter second6\n",
            "76\n"
          ]
        }
      ]
    },
    {
      "cell_type": "code",
      "source": [
        ""
      ],
      "metadata": {
        "id": "pr_2Li7kBKfM"
      },
      "execution_count": null,
      "outputs": []
    },
    {
      "cell_type": "code",
      "source": [
        "num1=input(\"enter first\")\n",
        "num2=input(\"enter second\")\n",
        "print(int(num1)+int(num2))"
      ],
      "metadata": {
        "colab": {
          "base_uri": "https://localhost:8080/"
        },
        "outputId": "a04b84d0-6786-4109-cf0b-8c88c7154aca",
        "id": "Ue-2nR14CRx4"
      },
      "execution_count": 15,
      "outputs": [
        {
          "output_type": "stream",
          "name": "stdout",
          "text": [
            "enter first67\n",
            "enter second78\n",
            "145\n"
          ]
        }
      ]
    },
    {
      "cell_type": "code",
      "source": [
        "pi= 3.14\n",
        "print(pi)"
      ],
      "metadata": {
        "colab": {
          "base_uri": "https://localhost:8080/"
        },
        "id": "in4dSu9WSZ4R",
        "outputId": "a58b3cd1-84fa-4312-8a12-291a96c028fc"
      },
      "execution_count": 16,
      "outputs": [
        {
          "output_type": "stream",
          "name": "stdout",
          "text": [
            "3.14\n"
          ]
        }
      ]
    },
    {
      "cell_type": "code",
      "source": [
        "number1=5\n",
        "number2=4\n",
        "print(number1/number2)"
      ],
      "metadata": {
        "colab": {
          "base_uri": "https://localhost:8080/"
        },
        "id": "uf1op7E2SZ8V",
        "outputId": "ffa1a9cf-5faf-4b4d-bb37-421801e9f9ed"
      },
      "execution_count": 17,
      "outputs": [
        {
          "output_type": "stream",
          "name": "stdout",
          "text": [
            "1.25\n"
          ]
        }
      ]
    },
    {
      "cell_type": "code",
      "source": [
        ""
      ],
      "metadata": {
        "id": "fOTbLy8vSaAD"
      },
      "execution_count": null,
      "outputs": []
    },
    {
      "cell_type": "code",
      "source": [
        ""
      ],
      "metadata": {
        "id": "-JKwuKoNSaDt"
      },
      "execution_count": null,
      "outputs": []
    },
    {
      "cell_type": "code",
      "source": [
        ""
      ],
      "metadata": {
        "id": "qG-LKHr4BKit"
      },
      "execution_count": null,
      "outputs": []
    }
  ]
}