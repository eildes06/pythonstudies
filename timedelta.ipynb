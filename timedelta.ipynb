{
  "nbformat": 4,
  "nbformat_minor": 0,
  "metadata": {
    "colab": {
      "name": "timedelta.ipynb",
      "provenance": [],
      "authorship_tag": "ABX9TyOBGFXtk11cRqOPDJI0UjmO",
      "include_colab_link": true
    },
    "kernelspec": {
      "name": "python3",
      "display_name": "Python 3"
    },
    "language_info": {
      "name": "python"
    }
  },
  "cells": [
    {
      "cell_type": "markdown",
      "metadata": {
        "id": "view-in-github",
        "colab_type": "text"
      },
      "source": [
        "<a href=\"https://colab.research.google.com/github/eildes06/pythonstudies/blob/main/timedelta.ipynb\" target=\"_parent\"><img src=\"https://colab.research.google.com/assets/colab-badge.svg\" alt=\"Open In Colab\"/></a>"
      ]
    },
    {
      "cell_type": "code",
      "execution_count": null,
      "metadata": {
        "colab": {
          "base_uri": "https://localhost:8080/"
        },
        "id": "lwaXldvz9Z59",
        "outputId": "0ecf5c13-d0f0-43eb-d2c9-b171f2489d0a"
      },
      "outputs": [
        {
          "output_type": "stream",
          "name": "stdout",
          "text": [
            "day 9\n",
            "month 1\n",
            "year 2022\n",
            "hour 14\n",
            "minutes 21\n",
            "second 21\n"
          ]
        }
      ],
      "source": [
        "from datetime import datetime\n",
        "today=datetime.now()\n",
        "print(\"day \"+str(today.day))\n",
        "print(\"month \"+str(today.month))\n",
        "print(\"year \"+str(today.year))\n",
        "print(\"hour \" +str(today.hour))\n",
        "print(\"minutes \"+str(today.minute))\n",
        "print(\"second \" +str(today.second))"
      ]
    },
    {
      "cell_type": "code",
      "source": [
        "#time delta\n",
        "from datetime import datetime, timedelta\n",
        "today= datetime.now()\n",
        "print(\"today is: \"+str(today))\n",
        "\n",
        "\n",
        "#one_day= timedelta(days=1)\n",
        "#yesterday=today-one_day\n",
        "#print(\"yesterday was: \" +str(yesterday))\n",
        "\n",
        "one_week =timedelta(week=1)\n",
        "last_week = today-one_week\n",
        "print(\"last week : \"+str(last_week))"
      ],
      "metadata": {
        "colab": {
          "base_uri": "https://localhost:8080/",
          "height": 253
        },
        "id": "JY5RC9403nEf",
        "outputId": "57618447-7286-487b-9413-d4de964d4dc2"
      },
      "execution_count": 3,
      "outputs": [
        {
          "output_type": "stream",
          "name": "stdout",
          "text": [
            "today is: 2022-01-11 03:23:12.453464\n"
          ]
        },
        {
          "output_type": "error",
          "ename": "TypeError",
          "evalue": "ignored",
          "traceback": [
            "\u001b[0;31m---------------------------------------------------------------------------\u001b[0m",
            "\u001b[0;31mTypeError\u001b[0m                                 Traceback (most recent call last)",
            "\u001b[0;32m<ipython-input-3-e1f1b1ce6e7c>\u001b[0m in \u001b[0;36m<module>\u001b[0;34m()\u001b[0m\n\u001b[1;32m      9\u001b[0m \u001b[0;31m#print(\"yesterday was: \" +str(yesterday))\u001b[0m\u001b[0;34m\u001b[0m\u001b[0;34m\u001b[0m\u001b[0;34m\u001b[0m\u001b[0m\n\u001b[1;32m     10\u001b[0m \u001b[0;34m\u001b[0m\u001b[0m\n\u001b[0;32m---> 11\u001b[0;31m \u001b[0mone_week\u001b[0m \u001b[0;34m=\u001b[0m\u001b[0mtimedelta\u001b[0m\u001b[0;34m(\u001b[0m\u001b[0mweek\u001b[0m\u001b[0;34m=\u001b[0m\u001b[0;36m1\u001b[0m\u001b[0;34m)\u001b[0m\u001b[0;34m\u001b[0m\u001b[0;34m\u001b[0m\u001b[0m\n\u001b[0m\u001b[1;32m     12\u001b[0m \u001b[0mlast_week\u001b[0m \u001b[0;34m=\u001b[0m \u001b[0mtoday\u001b[0m\u001b[0;34m-\u001b[0m\u001b[0mone_week\u001b[0m\u001b[0;34m\u001b[0m\u001b[0;34m\u001b[0m\u001b[0m\n\u001b[1;32m     13\u001b[0m \u001b[0mprint\u001b[0m\u001b[0;34m(\u001b[0m\u001b[0;34m\"last week : \"\u001b[0m\u001b[0;34m+\u001b[0m\u001b[0mstr\u001b[0m\u001b[0;34m(\u001b[0m\u001b[0mlast_week\u001b[0m\u001b[0;34m)\u001b[0m\u001b[0;34m)\u001b[0m\u001b[0;34m\u001b[0m\u001b[0;34m\u001b[0m\u001b[0m\n",
            "\u001b[0;31mTypeError\u001b[0m: 'week' is an invalid keyword argument for __new__()"
          ]
        }
      ]
    },
    {
      "cell_type": "code",
      "source": [
        ""
      ],
      "metadata": {
        "id": "OdGE-4Bh3nLf"
      },
      "execution_count": null,
      "outputs": []
    },
    {
      "cell_type": "code",
      "source": [
        "#time delta\n",
        "from datetime import datetime, timedelta\n",
        "today= datetime.now()\n",
        "print(\"today is: \"+str(today))\n",
        "\n",
        "\n",
        "\n",
        "\n",
        "one_week =timedelta(weeks=1)\n",
        "last_week = today-one_week\n",
        "print(\"last week : \"+str(last_week))"
      ],
      "metadata": {
        "colab": {
          "base_uri": "https://localhost:8080/"
        },
        "outputId": "ddf0d142-4986-4e69-fd09-cd564ce306b9",
        "id": "chkIqXZzKcY8"
      },
      "execution_count": 5,
      "outputs": [
        {
          "output_type": "stream",
          "name": "stdout",
          "text": [
            "today is: 2022-01-11 03:25:18.138628\n",
            "last week : 2022-01-04 03:25:18.138628\n"
          ]
        }
      ]
    },
    {
      "cell_type": "code",
      "source": [
        ""
      ],
      "metadata": {
        "id": "6KnbI0ea3nQT"
      },
      "execution_count": null,
      "outputs": []
    }
  ]
}