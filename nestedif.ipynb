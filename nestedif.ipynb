{
  "nbformat": 4,
  "nbformat_minor": 0,
  "metadata": {
    "colab": {
      "name": "nestedif.ipynb",
      "provenance": [],
      "authorship_tag": "ABX9TyOyw4y3gYmuHJGcI5aImIEQ",
      "include_colab_link": true
    },
    "kernelspec": {
      "name": "python3",
      "display_name": "Python 3"
    },
    "language_info": {
      "name": "python"
    }
  },
  "cells": [
    {
      "cell_type": "markdown",
      "metadata": {
        "id": "view-in-github",
        "colab_type": "text"
      },
      "source": [
        "<a href=\"https://colab.research.google.com/github/eildes06/pythonstudies/blob/main/nestedif.ipynb\" target=\"_parent\"><img src=\"https://colab.research.google.com/assets/colab-badge.svg\" alt=\"Open In Colab\"/></a>"
      ]
    },
    {
      "cell_type": "code",
      "execution_count": 9,
      "metadata": {
        "colab": {
          "base_uri": "https://localhost:8080/"
        },
        "id": "ShTtmj5qa4kZ",
        "outputId": "99678f88-3a9d-47c4-c0e1-d2029ecb9553"
      },
      "outputs": [
        {
          "output_type": "stream",
          "name": "stdout",
          "text": [
            "what is your country : europe\n",
            "0.0\n"
          ]
        }
      ],
      "source": [
        "Country = input(\"what is your country : \")\n",
        "\n",
        "if Country == \"turkey\":\n",
        "    province =input(\"what is your province: \")\n",
        "    if province in (\"istanbul\", \"ankara \", \"bursa\"):\n",
        "      tax=0.30\n",
        "    elif province == \"izmir\" or \"antalya\":\n",
        "      tax=0.20\n",
        "    else:\n",
        "      tax=0.10\n",
        "else:\n",
        "    tax= 0.0\n",
        "print(tax)"
      ]
    }
  ]
}