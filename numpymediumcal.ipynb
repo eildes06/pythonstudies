{
  "nbformat": 4,
  "nbformat_minor": 0,
  "metadata": {
    "colab": {
      "name": "numpymediumcal.ipynb",
      "provenance": [],
      "collapsed_sections": [],
      "authorship_tag": "ABX9TyNqikhoAvrP9v196e3HIlZ3",
      "include_colab_link": true
    },
    "kernelspec": {
      "name": "python3",
      "display_name": "Python 3"
    },
    "language_info": {
      "name": "python"
    }
  },
  "cells": [
    {
      "cell_type": "markdown",
      "metadata": {
        "id": "view-in-github",
        "colab_type": "text"
      },
      "source": [
        "<a href=\"https://colab.research.google.com/github/eildes06/pythonstudies/blob/main/numpymediumcal.ipynb\" target=\"_parent\"><img src=\"https://colab.research.google.com/assets/colab-badge.svg\" alt=\"Open In Colab\"/></a>"
      ]
    },
    {
      "cell_type": "code",
      "source": [
        "import numpy as np\n"
      ],
      "metadata": {
        "id": "PDXiu7Nt82h4"
      },
      "execution_count": null,
      "outputs": []
    },
    {
      "cell_type": "code",
      "execution_count": null,
      "metadata": {
        "colab": {
          "base_uri": "https://localhost:8080/"
        },
        "id": "WVPHqOfF8bzE",
        "outputId": "9925db40-9bf3-4c96-c5e0-b82a1dace987"
      },
      "outputs": [
        {
          "output_type": "stream",
          "name": "stdout",
          "text": [
            "Python listesi :\n",
            "[0, 1, 2, 3, 4, 5, 6, 7, 8, 9]\n",
            "Numpy dizisi :\n",
            "[0 1 2 3 4 5 6 7 8 9]\n"
          ]
        }
      ],
      "source": [
        "# python list\n",
        "python_list = [0, 1, 2, 3, 4, 5, 6, 7, 8, 9]\n",
        "# numpy array\n",
        "numpy_array = np.array([0, 1, 2, 3, 4, 5, 6, 7, 8, 9])\n",
        "print(\"Python listesi :\")\n",
        "print(python_list)\n",
        "print(\"Numpy dizisi :\")\n",
        "print(numpy_array)\n",
        "#Output:\n",
        "#Python listesi :\n",
        "#[0, 1, 2, 3, 4, 5, 6, 7, 8, 9]\n",
        "#Numpy dizisi :\n",
        "#[0 1 2 3 4 5 6 7 8 9]"
      ]
    },
    {
      "cell_type": "code",
      "source": [
        "numpy_array1 = np.array([0, 1, 2, 3, 4, 5, 6, 7, 8, 9])\n",
        "print(numpy_array1.ndim)"
      ],
      "metadata": {
        "colab": {
          "base_uri": "https://localhost:8080/"
        },
        "id": "g89fkwvsTkTL",
        "outputId": "a3555f94-84f5-442e-ad79-8ff80ffb30fb"
      },
      "execution_count": null,
      "outputs": [
        {
          "output_type": "stream",
          "name": "stdout",
          "text": [
            "1\n"
          ]
        }
      ]
    },
    {
      "cell_type": "code",
      "source": [
        "numpy_array2 = np.array([[0, 1, 2, 3, 4, 5, 6, 7, 8, 9]])\n",
        "print(numpy_array2.ndim)"
      ],
      "metadata": {
        "colab": {
          "base_uri": "https://localhost:8080/"
        },
        "id": "6tIq08kpTkXI",
        "outputId": "7c9849d1-bbc0-4dfd-bc88-a471c4109adf"
      },
      "execution_count": null,
      "outputs": [
        {
          "output_type": "stream",
          "name": "stdout",
          "text": [
            "2\n"
          ]
        }
      ]
    },
    {
      "cell_type": "code",
      "source": [
        "numpy_array1 = np.array([0, 1, 2, 3, 4, 5, 6, 7, 8, 9])\n",
        "print(numpy_array1.shape)\n",
        "print(numpy_array1.ndim)\n",
        "#10 tane elemandan oluşan 1 boyutlu bir dizi(vektör)."
      ],
      "metadata": {
        "colab": {
          "base_uri": "https://localhost:8080/"
        },
        "id": "LFwBHOV2Tkab",
        "outputId": "601db5a9-e462-4f92-b0a5-66163fb37da9"
      },
      "execution_count": null,
      "outputs": [
        {
          "output_type": "stream",
          "name": "stdout",
          "text": [
            "(10,)\n",
            "1\n"
          ]
        }
      ]
    },
    {
      "cell_type": "code",
      "source": [
        "numpy_array2 = np.array([[0, 1, 2, 3, 4, 5, 6, 7, 8, 9]])\n",
        "print(numpy_array2.ndim)\n",
        "print(numpy_array2.shape)\n",
        "# 1 satır ve 10 sütundan oluşan 2 boyutlu bir dizi(matris)."
      ],
      "metadata": {
        "colab": {
          "base_uri": "https://localhost:8080/"
        },
        "id": "bZOBlaLLUAdd",
        "outputId": "6f6a3294-1591-4f6b-d6d4-e040790105db"
      },
      "execution_count": null,
      "outputs": [
        {
          "output_type": "stream",
          "name": "stdout",
          "text": [
            "2\n",
            "(1, 10)\n"
          ]
        }
      ]
    },
    {
      "cell_type": "code",
      "source": [
        "numpy_array = np.array([0, 1, 2, 3, 4, 5, 6, 7, 8, 9])\n",
        "print(numpy_array.reshape(1,10))"
      ],
      "metadata": {
        "colab": {
          "base_uri": "https://localhost:8080/"
        },
        "id": "jah3BcNHUAhH",
        "outputId": "649b8411-63c1-40e9-a16b-2516f03d8e5a"
      },
      "execution_count": null,
      "outputs": [
        {
          "output_type": "stream",
          "name": "stdout",
          "text": [
            "[[0 1 2 3 4 5 6 7 8 9]]\n"
          ]
        }
      ]
    },
    {
      "cell_type": "code",
      "source": [
        "print(numpy_array.reshape(10,1))"
      ],
      "metadata": {
        "colab": {
          "base_uri": "https://localhost:8080/"
        },
        "id": "1bJwzLoUUAkd",
        "outputId": "b5d54ad0-bab9-4e06-c368-d1cde1a48523"
      },
      "execution_count": null,
      "outputs": [
        {
          "output_type": "stream",
          "name": "stdout",
          "text": [
            "[[0]\n",
            " [1]\n",
            " [2]\n",
            " [3]\n",
            " [4]\n",
            " [5]\n",
            " [6]\n",
            " [7]\n",
            " [8]\n",
            " [9]]\n"
          ]
        }
      ]
    },
    {
      "cell_type": "code",
      "source": [
        "print(numpy_array.reshape(5,2))"
      ],
      "metadata": {
        "colab": {
          "base_uri": "https://localhost:8080/"
        },
        "id": "LFGIvYRRUYCs",
        "outputId": "6b2e9437-fe5b-49d7-ac5a-38617d3a34be"
      },
      "execution_count": null,
      "outputs": [
        {
          "output_type": "stream",
          "name": "stdout",
          "text": [
            "[[0 1]\n",
            " [2 3]\n",
            " [4 5]\n",
            " [6 7]\n",
            " [8 9]]\n"
          ]
        }
      ]
    },
    {
      "cell_type": "code",
      "source": [
        "print(numpy_array.reshape(2,5))"
      ],
      "metadata": {
        "colab": {
          "base_uri": "https://localhost:8080/"
        },
        "id": "Se9F2p4sUYGJ",
        "outputId": "41a73bd2-74f1-470f-8cb4-568d2eba92f8"
      },
      "execution_count": null,
      "outputs": [
        {
          "output_type": "stream",
          "name": "stdout",
          "text": [
            "[[0 1 2 3 4]\n",
            " [5 6 7 8 9]]\n"
          ]
        }
      ]
    },
    {
      "cell_type": "code",
      "source": [
        "np.arange(0,10,3)"
      ],
      "metadata": {
        "colab": {
          "base_uri": "https://localhost:8080/"
        },
        "id": "koJmx1YEU2CP",
        "outputId": "d6dd2817-462e-4d19-8034-8a47327cc2bb"
      },
      "execution_count": null,
      "outputs": [
        {
          "output_type": "execute_result",
          "data": {
            "text/plain": [
              "array([0, 3, 6, 9])"
            ]
          },
          "metadata": {},
          "execution_count": 20
        }
      ]
    },
    {
      "cell_type": "code",
      "source": [
        "np.arange(3)"
      ],
      "metadata": {
        "colab": {
          "base_uri": "https://localhost:8080/"
        },
        "id": "rauTI_BsU2GG",
        "outputId": "5304d0d0-81d2-456f-b315-094a8fbd05d5"
      },
      "execution_count": null,
      "outputs": [
        {
          "output_type": "execute_result",
          "data": {
            "text/plain": [
              "array([0, 1, 2])"
            ]
          },
          "metadata": {},
          "execution_count": 21
        }
      ]
    },
    {
      "cell_type": "code",
      "source": [
        "numpy_array = np.array([0, 1, 2, 3, 4, 5, 6, 7, 8, 9])\n",
        "numpy_array = numpy_array.reshape(5,2)\n",
        "print(numpy_array)"
      ],
      "metadata": {
        "colab": {
          "base_uri": "https://localhost:8080/"
        },
        "id": "zcJSyU36U2Jg",
        "outputId": "42727ac1-ed1b-46fe-f477-ce24769b7bd4"
      },
      "execution_count": null,
      "outputs": [
        {
          "output_type": "stream",
          "name": "stdout",
          "text": [
            "[[0 1]\n",
            " [2 3]\n",
            " [4 5]\n",
            " [6 7]\n",
            " [8 9]]\n"
          ]
        }
      ]
    },
    {
      "cell_type": "code",
      "source": [
        "#Dizinin herhangi bir satırını seçmek\n",
        "#1.satır\n",
        "first_row = numpy_array[0]\n",
        "#1. ve 2. satır \n",
        "first_and_second_rows = numpy_array[0:2]\n",
        "print(first_row)\n",
        "print(first_and_second_rows)"
      ],
      "metadata": {
        "colab": {
          "base_uri": "https://localhost:8080/"
        },
        "id": "3-sjpH9KU2Mx",
        "outputId": "da15e12e-ccb1-4c5f-d8cc-82d2d76601f0"
      },
      "execution_count": null,
      "outputs": [
        {
          "output_type": "stream",
          "name": "stdout",
          "text": [
            "[0 1]\n",
            "[[0 1]\n",
            " [2 3]]\n"
          ]
        }
      ]
    },
    {
      "cell_type": "code",
      "source": [
        "first_and_second_rows = numpy_array[:-3]\n",
        "#print(first_row)\n",
        "print(first_and_second_rows)"
      ],
      "metadata": {
        "colab": {
          "base_uri": "https://localhost:8080/"
        },
        "id": "EE4fne5AVtl7",
        "outputId": "74995244-b57e-4965-8dfd-f5c2f0e55050"
      },
      "execution_count": null,
      "outputs": [
        {
          "output_type": "stream",
          "name": "stdout",
          "text": [
            "[[0 1]\n",
            " [2 3]]\n"
          ]
        }
      ]
    },
    {
      "cell_type": "code",
      "source": [
        "#1. sütun\n",
        "first_column = numpy_array[:,0]\n",
        "#1. ve 2. sütun\n",
        "first_and_second_column = numpy_array[:,0:2]\n",
        "print(first_column)\n",
        "print(first_and_second_column)"
      ],
      "metadata": {
        "colab": {
          "base_uri": "https://localhost:8080/"
        },
        "id": "IYdg2cLkVtpD",
        "outputId": "8eed01ac-7979-4bf9-aa3f-44dba0fc2c8b"
      },
      "execution_count": null,
      "outputs": [
        {
          "output_type": "stream",
          "name": "stdout",
          "text": [
            "[0 2 4 6 8]\n",
            "[[0 1]\n",
            " [2 3]\n",
            " [4 5]\n",
            " [6 7]\n",
            " [8 9]]\n"
          ]
        }
      ]
    },
    {
      "cell_type": "code",
      "source": [
        "#Dizinin herhangi bir elemanını seçmek\n",
        "selecting_item = numpy_array[3,1]\n",
        "print(selecting_item)"
      ],
      "metadata": {
        "colab": {
          "base_uri": "https://localhost:8080/"
        },
        "id": "slOUr8zKVtsS",
        "outputId": "9b6c1d16-cb5e-4805-8273-a35974aa6421"
      },
      "execution_count": null,
      "outputs": [
        {
          "output_type": "stream",
          "name": "stdout",
          "text": [
            "7\n"
          ]
        }
      ]
    },
    {
      "cell_type": "code",
      "source": [
        "numpy_array = np.array([0, 1, 2, 3, 4, 5, 6, 7, 8, 9])\n",
        "numpy_array = numpy_array.reshape(5,2)\n",
        "print(numpy_array)"
      ],
      "metadata": {
        "colab": {
          "base_uri": "https://localhost:8080/"
        },
        "id": "jq4sNb7WWrM2",
        "outputId": "b12d798b-e7a6-4f33-eadd-198c4190c501"
      },
      "execution_count": null,
      "outputs": [
        {
          "output_type": "stream",
          "name": "stdout",
          "text": [
            "[[0 1]\n",
            " [2 3]\n",
            " [4 5]\n",
            " [6 7]\n",
            " [8 9]]\n"
          ]
        }
      ]
    },
    {
      "cell_type": "code",
      "source": [
        "print(numpy_array[::-1])"
      ],
      "metadata": {
        "colab": {
          "base_uri": "https://localhost:8080/"
        },
        "id": "0cb-cVODWrQT",
        "outputId": "e1b09eed-c45a-4c2f-81cf-9d46b315612c"
      },
      "execution_count": null,
      "outputs": [
        {
          "output_type": "stream",
          "name": "stdout",
          "text": [
            "[[8 9]\n",
            " [6 7]\n",
            " [4 5]\n",
            " [2 3]\n",
            " [0 1]]\n"
          ]
        }
      ]
    },
    {
      "cell_type": "code",
      "source": [
        "#belirtilen satir ve sutunda zero matris olusturur\n",
        "print(np.zeros((5,4)))"
      ],
      "metadata": {
        "colab": {
          "base_uri": "https://localhost:8080/"
        },
        "id": "CzWVHBfIWrTh",
        "outputId": "298f00b2-b011-4821-e341-3fc58bc6bb82"
      },
      "execution_count": null,
      "outputs": [
        {
          "output_type": "stream",
          "name": "stdout",
          "text": [
            "[[0. 0. 0. 0.]\n",
            " [0. 0. 0. 0.]\n",
            " [0. 0. 0. 0.]\n",
            " [0. 0. 0. 0.]\n",
            " [0. 0. 0. 0.]]\n"
          ]
        }
      ]
    },
    {
      "cell_type": "code",
      "source": [
        "\n",
        "#verilen olculerde birlik matris olusturur\n",
        "print(np.ones((3,3,3)))"
      ],
      "metadata": {
        "colab": {
          "base_uri": "https://localhost:8080/"
        },
        "id": "asyJfu_IWrW3",
        "outputId": "9308f15e-e8ea-4636-92ef-f78afc3e016d"
      },
      "execution_count": null,
      "outputs": [
        {
          "output_type": "stream",
          "name": "stdout",
          "text": [
            "[[[1. 1. 1.]\n",
            "  [1. 1. 1.]\n",
            "  [1. 1. 1.]]\n",
            "\n",
            " [[1. 1. 1.]\n",
            "  [1. 1. 1.]\n",
            "  [1. 1. 1.]]\n",
            "\n",
            " [[1. 1. 1.]\n",
            "  [1. 1. 1.]\n",
            "  [1. 1. 1.]]]\n"
          ]
        }
      ]
    },
    {
      "cell_type": "code",
      "source": [
        "#verilen olculerde birim matris olusturur\n",
        "#4X4 lük birim matris\n",
        "print(np.eye(4))"
      ],
      "metadata": {
        "colab": {
          "base_uri": "https://localhost:8080/"
        },
        "id": "k4_nLT_wYSZs",
        "outputId": "ade0130b-250b-4b67-ec3c-e62727b445cf"
      },
      "execution_count": null,
      "outputs": [
        {
          "output_type": "stream",
          "name": "stdout",
          "text": [
            "[[1. 0. 0. 0.]\n",
            " [0. 1. 0. 0.]\n",
            " [0. 0. 1. 0.]\n",
            " [0. 0. 0. 1.]]\n"
          ]
        }
      ]
    },
    {
      "cell_type": "code",
      "source": [
        "numpy_array = np.array([0,1, 2, 3, 4, 5, 6, 7, 8, 9])\n",
        "numpy_array = numpy_array.reshape(5,2)\n",
        "#Satır bazlı birleştirme\n",
        "print(np.concatenate([numpy_array, numpy_array], axis =0))"
      ],
      "metadata": {
        "colab": {
          "base_uri": "https://localhost:8080/"
        },
        "id": "-S1XBfZlYSc5",
        "outputId": "5dbc9555-eed5-4b4d-9e0f-f939f97e9fd1"
      },
      "execution_count": null,
      "outputs": [
        {
          "output_type": "stream",
          "name": "stdout",
          "text": [
            "[[0 1]\n",
            " [2 3]\n",
            " [4 5]\n",
            " [6 7]\n",
            " [8 9]\n",
            " [0 1]\n",
            " [2 3]\n",
            " [4 5]\n",
            " [6 7]\n",
            " [8 9]]\n"
          ]
        }
      ]
    },
    {
      "cell_type": "code",
      "source": [
        "#Sütun bazlı birleştirme\n",
        "print(np.concatenate([numpy_array, numpy_array], axis =1))"
      ],
      "metadata": {
        "colab": {
          "base_uri": "https://localhost:8080/"
        },
        "id": "ZcFQkqxUYSgD",
        "outputId": "a2e6cfee-77a7-443f-8525-7b56028c60e8"
      },
      "execution_count": null,
      "outputs": [
        {
          "output_type": "stream",
          "name": "stdout",
          "text": [
            "[[0 1 0 1]\n",
            " [2 3 2 3]\n",
            " [4 5 4 5]\n",
            " [6 7 6 7]\n",
            " [8 9 8 9]]\n"
          ]
        }
      ]
    },
    {
      "cell_type": "code",
      "source": [
        "numpy_array = np.array([0,1, 2, 3, 4, 5, 6, 7, 8, 9])\n",
        "numpy_array = numpy_array.reshape(5,2)\n",
        "print(numpy_array)"
      ],
      "metadata": {
        "colab": {
          "base_uri": "https://localhost:8080/"
        },
        "id": "7TVhbiWwYSi7",
        "outputId": "ea28504c-f06f-4b69-ef8d-9205ada362eb"
      },
      "execution_count": null,
      "outputs": [
        {
          "output_type": "stream",
          "name": "stdout",
          "text": [
            "[[0 1]\n",
            " [2 3]\n",
            " [4 5]\n",
            " [6 7]\n",
            " [8 9]]\n"
          ]
        }
      ]
    },
    {
      "cell_type": "code",
      "source": [
        "print(numpy_array.max())"
      ],
      "metadata": {
        "colab": {
          "base_uri": "https://localhost:8080/"
        },
        "id": "6VAvSO8TZRoV",
        "outputId": "90212fa7-a537-499d-a3a0-47ba9e998639"
      },
      "execution_count": null,
      "outputs": [
        {
          "output_type": "stream",
          "name": "stdout",
          "text": [
            "9\n"
          ]
        }
      ]
    },
    {
      "cell_type": "code",
      "source": [
        "print(numpy_array.min())"
      ],
      "metadata": {
        "colab": {
          "base_uri": "https://localhost:8080/"
        },
        "id": "gESiW5FlZRr5",
        "outputId": "3902e9e6-768d-4b7d-d7e4-c91fb8055590"
      },
      "execution_count": null,
      "outputs": [
        {
          "output_type": "stream",
          "name": "stdout",
          "text": [
            "0\n"
          ]
        }
      ]
    },
    {
      "cell_type": "code",
      "source": [
        "#Satırların toplamı\n",
        "print(numpy_array.sum(axis = 1))"
      ],
      "metadata": {
        "colab": {
          "base_uri": "https://localhost:8080/"
        },
        "id": "NUrX8RhvZRvT",
        "outputId": "c9242269-7966-466a-ad1e-af85c03ecdc5"
      },
      "execution_count": null,
      "outputs": [
        {
          "output_type": "stream",
          "name": "stdout",
          "text": [
            "[ 1  5  9 13 17]\n"
          ]
        }
      ]
    },
    {
      "cell_type": "code",
      "source": [
        "#Sütunların toplamı\n",
        "print(numpy_array.sum(axis = 0))"
      ],
      "metadata": {
        "colab": {
          "base_uri": "https://localhost:8080/"
        },
        "id": "jbYVnnwLZlVy",
        "outputId": "813690e2-f9fe-494f-b066-b9aa88348475"
      },
      "execution_count": null,
      "outputs": [
        {
          "output_type": "stream",
          "name": "stdout",
          "text": [
            "[20 25]\n"
          ]
        }
      ]
    },
    {
      "cell_type": "code",
      "source": [
        "numpy_array = np.array([0,1, 2, 3, 4, 5, 6, 7, 8, 9])\n",
        "print(numpy_array.mean())"
      ],
      "metadata": {
        "colab": {
          "base_uri": "https://localhost:8080/"
        },
        "id": "S8ABfQWiZlZm",
        "outputId": "866a5844-d893-4694-917e-5a0dab43aebd"
      },
      "execution_count": null,
      "outputs": [
        {
          "output_type": "stream",
          "name": "stdout",
          "text": [
            "4.5\n"
          ]
        }
      ]
    },
    {
      "cell_type": "code",
      "source": [
        "print(np.median(numpy_array))"
      ],
      "metadata": {
        "colab": {
          "base_uri": "https://localhost:8080/"
        },
        "id": "26qypzFgZlfu",
        "outputId": "8b33c6fc-08bd-4fe6-97f8-a9831d8de9a8"
      },
      "execution_count": null,
      "outputs": [
        {
          "output_type": "stream",
          "name": "stdout",
          "text": [
            "4.5\n"
          ]
        }
      ]
    },
    {
      "cell_type": "code",
      "source": [
        "print(numpy_array.var())\n"
      ],
      "metadata": {
        "colab": {
          "base_uri": "https://localhost:8080/"
        },
        "id": "ViGD7q8yZzud",
        "outputId": "a48e19fa-afee-44ec-84ed-6da305da6eb7"
      },
      "execution_count": null,
      "outputs": [
        {
          "output_type": "stream",
          "name": "stdout",
          "text": [
            "8.25\n"
          ]
        }
      ]
    },
    {
      "cell_type": "code",
      "source": [
        "print(numpy_array.std()"
      ],
      "metadata": {
        "id": "XD04NvUhZzyD"
      },
      "execution_count": null,
      "outputs": []
    },
    {
      "cell_type": "code",
      "source": [
        "numpy_array = np.array([1, 2, 3, 4, 5, 6, 7, 8, 9])\n",
        "numpy_array = numpy_array.reshape(3,3)\n",
        "#dizimizi 3x3 lük, 2 boyutlu bir matrise dönüştürdük.\n",
        "print(numpy_array)"
      ],
      "metadata": {
        "colab": {
          "base_uri": "https://localhost:8080/"
        },
        "id": "6m6TBZdvZz1b",
        "outputId": "5afa392e-55ae-4fed-e502-b497373b911b"
      },
      "execution_count": null,
      "outputs": [
        {
          "output_type": "stream",
          "name": "stdout",
          "text": [
            "[[1 2 3]\n",
            " [4 5 6]\n",
            " [7 8 9]]\n"
          ]
        }
      ]
    },
    {
      "cell_type": "code",
      "source": [
        "print(numpy_array + numpy_array)"
      ],
      "metadata": {
        "colab": {
          "base_uri": "https://localhost:8080/"
        },
        "id": "74hK58uMaWLN",
        "outputId": "51599049-3029-4a20-da5a-5246c11aef1d"
      },
      "execution_count": null,
      "outputs": [
        {
          "output_type": "stream",
          "name": "stdout",
          "text": [
            "[[ 2  4  6]\n",
            " [ 8 10 12]\n",
            " [14 16 18]]\n"
          ]
        }
      ]
    },
    {
      "cell_type": "code",
      "source": [
        "print(numpy_array - numpy_array)"
      ],
      "metadata": {
        "colab": {
          "base_uri": "https://localhost:8080/"
        },
        "id": "uFAwQgptaWPH",
        "outputId": "951e0f7a-8f49-4c73-cfb8-e749801bdb4d"
      },
      "execution_count": null,
      "outputs": [
        {
          "output_type": "stream",
          "name": "stdout",
          "text": [
            "[[0 0 0]\n",
            " [0 0 0]\n",
            " [0 0 0]]\n"
          ]
        }
      ]
    },
    {
      "cell_type": "code",
      "source": [
        "print(numpy_array * numpy_array)"
      ],
      "metadata": {
        "colab": {
          "base_uri": "https://localhost:8080/"
        },
        "id": "ownVBQrxaWSn",
        "outputId": "14ccbf9e-8bce-4515-ffc8-d93cc5c87c84"
      },
      "execution_count": null,
      "outputs": [
        {
          "output_type": "stream",
          "name": "stdout",
          "text": [
            "[[ 1  4  9]\n",
            " [16 25 36]\n",
            " [49 64 81]]\n"
          ]
        }
      ]
    },
    {
      "cell_type": "code",
      "source": [
        "print(numpy_array + 5)"
      ],
      "metadata": {
        "colab": {
          "base_uri": "https://localhost:8080/"
        },
        "id": "pWDZenCOa7Gk",
        "outputId": "c95b55b5-7fec-413f-f411-2ff6af4befb5"
      },
      "execution_count": null,
      "outputs": [
        {
          "output_type": "stream",
          "name": "stdout",
          "text": [
            "[[ 6  7  8]\n",
            " [ 9 10 11]\n",
            " [12 13 14]]\n"
          ]
        }
      ]
    },
    {
      "cell_type": "code",
      "source": [
        "print(numpy_array * 2)"
      ],
      "metadata": {
        "colab": {
          "base_uri": "https://localhost:8080/"
        },
        "id": "xDiMNnuxa7KV",
        "outputId": "403c1017-7423-4263-a857-49e80b043d70"
      },
      "execution_count": null,
      "outputs": [
        {
          "output_type": "stream",
          "name": "stdout",
          "text": [
            "[[ 2  4  6]\n",
            " [ 8 10 12]\n",
            " [14 16 18]]\n"
          ]
        }
      ]
    },
    {
      "cell_type": "code",
      "source": [
        "numpy_array = np.array([1, 2, 3, 4, 5, 6, 7, 8, 9])\n",
        "numpy_array = numpy_array.reshape(3,3)\n",
        "#dizimizi 3x3 lük, 2 boyutlu bir matrise dönüştürdük.\n",
        "print(np.sin(numpy_array))"
      ],
      "metadata": {
        "colab": {
          "base_uri": "https://localhost:8080/"
        },
        "id": "QvlB76kJdNbH",
        "outputId": "a3a888c6-58a0-44e7-c7fc-c4f537fcf2e1"
      },
      "execution_count": null,
      "outputs": [
        {
          "output_type": "stream",
          "name": "stdout",
          "text": [
            "[[ 0.84147098  0.90929743  0.14112001]\n",
            " [-0.7568025  -0.95892427 -0.2794155 ]\n",
            " [ 0.6569866   0.98935825  0.41211849]]\n"
          ]
        }
      ]
    },
    {
      "cell_type": "code",
      "source": [
        "print(np.cos(numpy_array))"
      ],
      "metadata": {
        "colab": {
          "base_uri": "https://localhost:8080/"
        },
        "id": "8Je5BKsAdNhA",
        "outputId": "c2e356f4-5e0a-4a87-9853-7a9d889fe162"
      },
      "execution_count": null,
      "outputs": [
        {
          "output_type": "stream",
          "name": "stdout",
          "text": [
            "[[ 0.54030231 -0.41614684 -0.9899925 ]\n",
            " [-0.65364362  0.28366219  0.96017029]\n",
            " [ 0.75390225 -0.14550003 -0.91113026]]\n"
          ]
        }
      ]
    },
    {
      "cell_type": "code",
      "source": [
        "print(np.sqrt(numpy_array)) "
      ],
      "metadata": {
        "colab": {
          "base_uri": "https://localhost:8080/"
        },
        "id": "IrQDUnXSdNkz",
        "outputId": "3ad4872d-b224-4a45-9490-f93c1dd5f98a"
      },
      "execution_count": null,
      "outputs": [
        {
          "output_type": "stream",
          "name": "stdout",
          "text": [
            "[[1.         1.41421356 1.73205081]\n",
            " [2.         2.23606798 2.44948974]\n",
            " [2.64575131 2.82842712 3.        ]]\n"
          ]
        }
      ]
    },
    {
      "cell_type": "code",
      "source": [
        "print(np.exp(numpy_array))"
      ],
      "metadata": {
        "colab": {
          "base_uri": "https://localhost:8080/"
        },
        "id": "8mJ7kUSCdNnN",
        "outputId": "c0cf591f-6c1c-4f9b-faeb-bd30b2801f60"
      },
      "execution_count": null,
      "outputs": [
        {
          "output_type": "stream",
          "name": "stdout",
          "text": [
            "[[2.71828183e+00 7.38905610e+00 2.00855369e+01]\n",
            " [5.45981500e+01 1.48413159e+02 4.03428793e+02]\n",
            " [1.09663316e+03 2.98095799e+03 8.10308393e+03]]\n"
          ]
        }
      ]
    },
    {
      "cell_type": "code",
      "source": [
        "print(np.log(numpy_array))"
      ],
      "metadata": {
        "colab": {
          "base_uri": "https://localhost:8080/"
        },
        "id": "DzW8pqDGdNqq",
        "outputId": "bc7f71b5-b175-44ea-8486-05288db45dba"
      },
      "execution_count": null,
      "outputs": [
        {
          "output_type": "stream",
          "name": "stdout",
          "text": [
            "[[0.         0.69314718 1.09861229]\n",
            " [1.38629436 1.60943791 1.79175947]\n",
            " [1.94591015 2.07944154 2.19722458]]\n"
          ]
        }
      ]
    },
    {
      "cell_type": "code",
      "source": [
        "numpy_array = np.array([0,1, 2, 3, 4, 5, 6, 7, 8, 9])\n",
        "numpy_array1 = numpy_array.reshape(5,2)\n",
        "numpy_array2 = numpy_array.reshape(2,5)\n",
        "print(np.dot(numpy_array1,numpy_array2))"
      ],
      "metadata": {
        "colab": {
          "base_uri": "https://localhost:8080/"
        },
        "id": "M__tQvvra7Ne",
        "outputId": "735b7172-f3be-461d-ba03-9a372157a80f"
      },
      "execution_count": null,
      "outputs": [
        {
          "output_type": "stream",
          "name": "stdout",
          "text": [
            "[[  5   6   7   8   9]\n",
            " [ 15  20  25  30  35]\n",
            " [ 25  34  43  52  61]\n",
            " [ 35  48  61  74  87]\n",
            " [ 45  62  79  96 113]]\n"
          ]
        }
      ]
    },
    {
      "cell_type": "code",
      "source": [
        "#matrisin transpozu\n",
        "numpy_array = np.array([0,1, 2, 3, 4, 5, 6, 7, 8, 9])\n",
        "numpy_array = numpy_array.reshape(5,2)\n",
        "print(numpy_array)"
      ],
      "metadata": {
        "colab": {
          "base_uri": "https://localhost:8080/"
        },
        "id": "WYLWcqL9dqUy",
        "outputId": "318955b7-0864-46b3-a541-519bb70cc716"
      },
      "execution_count": null,
      "outputs": [
        {
          "output_type": "stream",
          "name": "stdout",
          "text": [
            "[[0 1]\n",
            " [2 3]\n",
            " [4 5]\n",
            " [6 7]\n",
            " [8 9]]\n"
          ]
        }
      ]
    },
    {
      "cell_type": "code",
      "source": [
        "print(numpy_array.T) "
      ],
      "metadata": {
        "colab": {
          "base_uri": "https://localhost:8080/"
        },
        "id": "ejcOG2jidqYl",
        "outputId": "d3e2c7d7-4ca3-4ec7-a397-d502afe248b5"
      },
      "execution_count": null,
      "outputs": [
        {
          "output_type": "stream",
          "name": "stdout",
          "text": [
            "[[0 2 4 6 8]\n",
            " [1 3 5 7 9]]\n"
          ]
        }
      ]
    },
    {
      "cell_type": "code",
      "source": [
        "numpy_array = np.array([0,1, 2, 3, 4, 5, 6, 7, 8, 9])\n",
        "boolean_array = numpy_array >= 5\n",
        "print(boolean_array)"
      ],
      "metadata": {
        "colab": {
          "base_uri": "https://localhost:8080/"
        },
        "id": "3qej-G7hdqcV",
        "outputId": "7dea50a4-7064-4c3f-c69c-5bfe4ce15e34"
      },
      "execution_count": null,
      "outputs": [
        {
          "output_type": "stream",
          "name": "stdout",
          "text": [
            "[False False False False False  True  True  True  True  True]\n"
          ]
        }
      ]
    },
    {
      "cell_type": "code",
      "source": [
        "# 5 ve 5'ten büyük elemanlar\n",
        "print(numpy_array[boolean_array])\n",
        "\n",
        "# 5 ten küçük elemanlar\n",
        "print(numpy_array<5)\n",
        "print(numpy_array[numpy_array<5])"
      ],
      "metadata": {
        "colab": {
          "base_uri": "https://localhost:8080/"
        },
        "id": "V1VTIKGReMCX",
        "outputId": "48b456ac-90c9-4d3b-f816-38467955ddbe"
      },
      "execution_count": null,
      "outputs": [
        {
          "output_type": "stream",
          "name": "stdout",
          "text": [
            "[5 6 7 8 9]\n",
            "[ True  True  True  True  True False False False False False]\n",
            "[0 1 2 3 4]\n"
          ]
        }
      ]
    },
    {
      "cell_type": "code",
      "source": [
        ""
      ],
      "metadata": {
        "id": "TqlnmjLneMGU"
      },
      "execution_count": null,
      "outputs": []
    }
  ]
}